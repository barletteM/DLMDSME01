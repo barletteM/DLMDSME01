{
 "cells": [
  {
   "cell_type": "markdown",
   "metadata": {
    "ExecuteTime": {
     "end_time": "2020-06-14T15:37:08.186487Z",
     "start_time": "2020-06-14T15:37:08.180446Z"
    }
   },
   "source": [
    "# Data Quality \n",
    "\n",
    "**Under Construction** \n",
    "\n",
    "Suppose you are confronted with a new dataset. Here we learn:\n",
    "\n",
    "*   How to explore the new dataset   \n",
    "*   How to measure the quality of the new dataset\n",
    "*   How to handle low quality datapoints\n",
    "*   How to handle missing data points"
   ]
  },
  {
   "cell_type": "markdown",
   "metadata": {},
   "source": [
    "## Outlier Identification"
   ]
  },
  {
   "cell_type": "markdown",
   "metadata": {},
   "source": [
    "*Data often contain errors that may cause incorrect results and - when used for training a machine learning model - wrong forecasting behavior.*\n",
    "\n",
    "*We distinguish between inliers and outliers, where inliers are values inside the true feature distribution and outliers are outside.*\n",
    "\n",
    "*Outliers should be considered with caution because sometimes data contain unusual but correct data that represent valuable information and should not be considered as error. Example: Earthquake events in seismographich records. However, outliers can also be incorrect data points, which have to be deleted from the data set or imputed with more correct values*"
   ]
  },
  {
   "cell_type": "markdown",
   "metadata": {},
   "source": [
    "**2-sigma rule**: We define an **outlier** $x_k^{(i)}$ as a data point, that deviates from the mean by at least twice the standard deviation\n",
    "    \n",
    "$$|x_k^{(i)} - \\bar{x}^{(i)} | > 2 \\cdot s^{(i)}$$\n",
    "\n",
    "with the standard deviation of the i^th feature:\n",
    "\n",
    "$$s^{(i)} = \\sqrt{\\frac{1}{n-1} \\sum_{k = 1}^{n} \\left( x_k^{(i)} - \\bar{x}^{(i)} \\right)^2}$$"
   ]
  },
  {
   "cell_type": "markdown",
   "metadata": {
    "ExecuteTime": {
     "end_time": "2020-07-12T06:13:09.458796Z",
     "start_time": "2020-07-12T06:13:09.453752Z"
    }
   },
   "source": [
    "*If sufficient data are available and data quality is important, then suspicious data may be completely removed.*"
   ]
  },
  {
   "cell_type": "markdown",
   "metadata": {},
   "source": [
    "**Note:** Also for μ-σ-standardization outliers should be removed before, they\n",
    "may otherwise strongly affect feature means and standard deviations."
   ]
  },
  {
   "cell_type": "markdown",
   "metadata": {},
   "source": [
    "# Setup"
   ]
  },
  {
   "cell_type": "code",
   "execution_count": 1,
   "metadata": {
    "ExecuteTime": {
     "end_time": "2021-09-15T06:50:38.464700Z",
     "start_time": "2021-09-15T06:50:35.832964Z"
    }
   },
   "outputs": [],
   "source": [
    "# Common imports\n",
    "import numpy as np\n",
    "import os\n",
    "import pandas as pd\n",
    "\n",
    "# to make this notebook's output stable across runs\n",
    "np.random.seed(42)\n",
    "\n",
    "# To plot pretty figures\n",
    "%matplotlib inline\n",
    "import matplotlib as mpl\n",
    "import matplotlib.pyplot as plt\n",
    "mpl.rc('axes', labelsize=14)\n",
    "mpl.rc('xtick', labelsize=12)\n",
    "mpl.rc('ytick', labelsize=12)\n",
    "\n",
    "# Where to save the figures\n",
    "PROJECT_ROOT_DIR = \".\"\n",
    "CHAPTER_ID = \"data_quality\"\n",
    "IMAGES_PATH = os.path.join(PROJECT_ROOT_DIR, \"images\", CHAPTER_ID)\n",
    "\n",
    "def save_fig(fig_id, tight_layout=True, fig_extension=\"png\", resolution=300):\n",
    "    path = os.path.join(IMAGES_PATH, fig_id + \".\" + fig_extension)\n",
    "    print(\"Saving figure\", fig_id)\n",
    "    if tight_layout:\n",
    "        plt.tight_layout()\n",
    "    plt.savefig(path, format=fig_extension, dpi=resolution)\n",
    "\n",
    "# Ignore useless warnings (see SciPy issue #5998)\n",
    "import warnings\n",
    "warnings.filterwarnings(action=\"ignore\", message=\"^internal gelsd\")"
   ]
  },
  {
   "cell_type": "markdown",
   "metadata": {},
   "source": [
    "# Introduction"
   ]
  },
  {
   "cell_type": "markdown",
   "metadata": {},
   "source": [
    "Preparing and cleaning data is a crucial aspect of building a machine-learning model. "
   ]
  },
  {
   "cell_type": "markdown",
   "metadata": {},
   "source": [
    "# First Steps with a new dataset"
   ]
  },
  {
   "cell_type": "markdown",
   "metadata": {},
   "source": [
    "## Load the data"
   ]
  },
  {
   "cell_type": "code",
   "execution_count": 2,
   "metadata": {
    "ExecuteTime": {
     "end_time": "2021-09-15T06:51:17.611669Z",
     "start_time": "2021-09-15T06:51:17.314671Z"
    }
   },
   "outputs": [],
   "source": [
    "df = pd.read_csv('complete.csv', \n",
    "                 usecols = [0, 1, 2, 3, 4, 5, 6, 7, 8, 9, 10], \n",
    "                 low_memory=False)"
   ]
  },
  {
   "cell_type": "markdown",
   "metadata": {},
   "source": [
    "Explanation:\n",
    "   *    **low_memory**: lower memory use while parsing\n",
    "   *    **usecols**: use subset of the columns"
   ]
  },
  {
   "cell_type": "markdown",
   "metadata": {},
   "source": [
    "Familiarize with the data with certain pandas commands, like the head(), the shape(), the info() commands."
   ]
  },
  {
   "cell_type": "markdown",
   "metadata": {},
   "source": [
    "## Take a first look at the data"
   ]
  },
  {
   "cell_type": "code",
   "execution_count": 3,
   "metadata": {
    "ExecuteTime": {
     "end_time": "2021-09-15T06:51:37.064749Z",
     "start_time": "2021-09-15T06:51:37.037677Z"
    }
   },
   "outputs": [
    {
     "data": {
      "text/html": [
       "<div>\n",
       "<style scoped>\n",
       "    .dataframe tbody tr th:only-of-type {\n",
       "        vertical-align: middle;\n",
       "    }\n",
       "\n",
       "    .dataframe tbody tr th {\n",
       "        vertical-align: top;\n",
       "    }\n",
       "\n",
       "    .dataframe thead th {\n",
       "        text-align: right;\n",
       "    }\n",
       "</style>\n",
       "<table border=\"1\" class=\"dataframe\">\n",
       "  <thead>\n",
       "    <tr style=\"text-align: right;\">\n",
       "      <th></th>\n",
       "      <th>datetime</th>\n",
       "      <th>city</th>\n",
       "      <th>state</th>\n",
       "      <th>country</th>\n",
       "      <th>shape</th>\n",
       "      <th>duration (seconds)</th>\n",
       "      <th>duration (hours/min)</th>\n",
       "      <th>comments</th>\n",
       "      <th>date posted</th>\n",
       "      <th>latitude</th>\n",
       "      <th>longitude</th>\n",
       "    </tr>\n",
       "  </thead>\n",
       "  <tbody>\n",
       "    <tr>\n",
       "      <th>0</th>\n",
       "      <td>10/10/1949 20:30</td>\n",
       "      <td>san marcos</td>\n",
       "      <td>tx</td>\n",
       "      <td>us</td>\n",
       "      <td>cylinder</td>\n",
       "      <td>2700</td>\n",
       "      <td>45 minutes</td>\n",
       "      <td>This event took place in early fall around 194...</td>\n",
       "      <td>4/27/2004</td>\n",
       "      <td>29.8830556</td>\n",
       "      <td>-97.941111</td>\n",
       "    </tr>\n",
       "    <tr>\n",
       "      <th>1</th>\n",
       "      <td>10/10/1949 21:00</td>\n",
       "      <td>lackland afb</td>\n",
       "      <td>tx</td>\n",
       "      <td>NaN</td>\n",
       "      <td>light</td>\n",
       "      <td>7200</td>\n",
       "      <td>1-2 hrs</td>\n",
       "      <td>1949 Lackland AFB&amp;#44 TX.  Lights racing acros...</td>\n",
       "      <td>12/16/2005</td>\n",
       "      <td>29.38421</td>\n",
       "      <td>-98.581082</td>\n",
       "    </tr>\n",
       "    <tr>\n",
       "      <th>2</th>\n",
       "      <td>10/10/1955 17:00</td>\n",
       "      <td>chester (uk/england)</td>\n",
       "      <td>NaN</td>\n",
       "      <td>gb</td>\n",
       "      <td>circle</td>\n",
       "      <td>20</td>\n",
       "      <td>20 seconds</td>\n",
       "      <td>Green/Orange circular disc over Chester&amp;#44 En...</td>\n",
       "      <td>1/21/2008</td>\n",
       "      <td>53.2</td>\n",
       "      <td>-2.916667</td>\n",
       "    </tr>\n",
       "  </tbody>\n",
       "</table>\n",
       "</div>"
      ],
      "text/plain": [
       "           datetime                  city state country     shape  \\\n",
       "0  10/10/1949 20:30            san marcos    tx      us  cylinder   \n",
       "1  10/10/1949 21:00          lackland afb    tx     NaN     light   \n",
       "2  10/10/1955 17:00  chester (uk/england)   NaN      gb    circle   \n",
       "\n",
       "  duration (seconds) duration (hours/min)  \\\n",
       "0               2700           45 minutes   \n",
       "1               7200              1-2 hrs   \n",
       "2                 20           20 seconds   \n",
       "\n",
       "                                            comments date posted    latitude  \\\n",
       "0  This event took place in early fall around 194...   4/27/2004  29.8830556   \n",
       "1  1949 Lackland AFB&#44 TX.  Lights racing acros...  12/16/2005    29.38421   \n",
       "2  Green/Orange circular disc over Chester&#44 En...   1/21/2008        53.2   \n",
       "\n",
       "   longitude  \n",
       "0 -97.941111  \n",
       "1 -98.581082  \n",
       "2  -2.916667  "
      ]
     },
     "execution_count": 3,
     "metadata": {},
     "output_type": "execute_result"
    }
   ],
   "source": [
    "df.head(3)"
   ]
  },
  {
   "cell_type": "markdown",
   "metadata": {},
   "source": [
    "## Get the shape of the data"
   ]
  },
  {
   "cell_type": "code",
   "execution_count": 4,
   "metadata": {
    "ExecuteTime": {
     "end_time": "2021-09-15T06:52:04.526213Z",
     "start_time": "2021-09-15T06:52:04.520231Z"
    }
   },
   "outputs": [
    {
     "name": "stdout",
     "output_type": "stream",
     "text": [
      "The data set consists of 88875 columns and 11 rows.\n"
     ]
    }
   ],
   "source": [
    "print('The data set consists of {} columns and {} rows.'.format(df.shape[0], df.shape[1]))"
   ]
  },
  {
   "cell_type": "markdown",
   "metadata": {},
   "source": [
    "## Get the variable types"
   ]
  },
  {
   "cell_type": "code",
   "execution_count": 5,
   "metadata": {
    "ExecuteTime": {
     "end_time": "2021-09-15T06:52:15.410842Z",
     "start_time": "2021-09-15T06:52:15.404800Z"
    }
   },
   "outputs": [
    {
     "data": {
      "text/plain": [
       "datetime                 object\n",
       "city                     object\n",
       "state                    object\n",
       "country                  object\n",
       "shape                    object\n",
       "duration (seconds)       object\n",
       "duration (hours/min)     object\n",
       "comments                 object\n",
       "date posted              object\n",
       "latitude                 object\n",
       "longitude               float64\n",
       "dtype: object"
      ]
     },
     "execution_count": 5,
     "metadata": {},
     "output_type": "execute_result"
    }
   ],
   "source": [
    "df.dtypes"
   ]
  },
  {
   "cell_type": "markdown",
   "metadata": {},
   "source": [
    "## Get a quick description of the data"
   ]
  },
  {
   "cell_type": "code",
   "execution_count": 7,
   "metadata": {
    "ExecuteTime": {
     "end_time": "2021-06-30T07:21:56.390273Z",
     "start_time": "2021-06-30T07:21:56.320243Z"
    }
   },
   "outputs": [
    {
     "name": "stdout",
     "output_type": "stream",
     "text": [
      "<class 'pandas.core.frame.DataFrame'>\n",
      "RangeIndex: 88875 entries, 0 to 88874\n",
      "Data columns (total 11 columns):\n",
      " #   Column                Non-Null Count  Dtype  \n",
      "---  ------                --------------  -----  \n",
      " 0   datetime              88875 non-null  object \n",
      " 1   city                  88679 non-null  object \n",
      " 2   state                 81356 non-null  object \n",
      " 3   country               76314 non-null  object \n",
      " 4   shape                 85757 non-null  object \n",
      " 5   duration (seconds)    88873 non-null  object \n",
      " 6   duration (hours/min)  85772 non-null  object \n",
      " 7   comments              88749 non-null  object \n",
      " 8   date posted           88875 non-null  object \n",
      " 9   latitude              88875 non-null  object \n",
      " 10  longitude             88875 non-null  float64\n",
      "dtypes: float64(1), object(10)\n",
      "memory usage: 7.5+ MB\n"
     ]
    }
   ],
   "source": [
    "df.info()"
   ]
  },
  {
   "cell_type": "markdown",
   "metadata": {},
   "source": [
    "## Data Type Categorization"
   ]
  },
  {
   "cell_type": "markdown",
   "metadata": {
    "ExecuteTime": {
     "end_time": "2021-09-15T06:55:40.039410Z",
     "start_time": "2021-09-15T06:55:40.033409Z"
    }
   },
   "source": [
    "In a next step we split the features into the data types: numerical, categorical and datetime objects. For both of them we develop a data summary, perform graphical representations and try to understand the interavtions among the features of the same data type as well as from the other data type.\n",
    "\n",
    "**Data summary**: number of missing values, number of unique values, descriptice statistics: mean, mode, median, standard deviation, number and name of different categories.\n",
    "\n",
    "**Graphical representation**: Seaborn package is especially well suited. It offers nice informative statistical graphics. Outliers can be detected with boxplots, more information on the underlying data via distribution plots. For categorical variables a first graphical representation can be a bar plot.\n",
    "Correlation among numerical variables can be detetected via a scatter plot and correlation coefficients. For correlations among categorical variables a chi2-test, the crosstabl function and bar plots with color encoding are helpful. For correlations of numerical and categorical variables, boxplots are helpful."
   ]
  },
  {
   "cell_type": "markdown",
   "metadata": {},
   "source": [
    "## Datetime variables"
   ]
  },
  {
   "cell_type": "code",
   "execution_count": 8,
   "metadata": {
    "ExecuteTime": {
     "end_time": "2021-09-15T07:04:49.534411Z",
     "start_time": "2021-09-15T07:04:40.660394Z"
    }
   },
   "outputs": [],
   "source": [
    "df['datetime']     = pd.to_datetime(df.datetime.str.replace('24:','00:'))\n",
    "df['datetime_str'] = df['datetime'].dt.strftime('%Y-%m-%d %H:%M') "
   ]
  },
  {
   "cell_type": "code",
   "execution_count": 10,
   "metadata": {
    "ExecuteTime": {
     "end_time": "2021-09-15T07:05:01.112040Z",
     "start_time": "2021-09-15T07:05:01.075033Z"
    }
   },
   "outputs": [
    {
     "data": {
      "text/plain": [
       "datetime        datetime64[ns]\n",
       "datetime_str            object\n",
       "dtype: object"
      ]
     },
     "execution_count": 10,
     "metadata": {},
     "output_type": "execute_result"
    }
   ],
   "source": [
    "df[['datetime', 'datetime_str']].dtypes"
   ]
  },
  {
   "cell_type": "code",
   "execution_count": 11,
   "metadata": {
    "ExecuteTime": {
     "end_time": "2021-06-30T07:22:41.368926Z",
     "start_time": "2021-06-30T07:22:41.362924Z"
    }
   },
   "outputs": [
    {
     "data": {
      "text/plain": [
       "datetime                datetime64[ns]\n",
       "city                            object\n",
       "state                           object\n",
       "country                         object\n",
       "shape                           object\n",
       "duration (seconds)              object\n",
       "duration (hours/min)            object\n",
       "comments                        object\n",
       "date posted                     object\n",
       "latitude                        object\n",
       "longitude                      float64\n",
       "datetime_2                      object\n",
       "dtype: object"
      ]
     },
     "execution_count": 11,
     "metadata": {},
     "output_type": "execute_result"
    }
   ],
   "source": [
    "df.dtypes"
   ]
  },
  {
   "cell_type": "code",
   "execution_count": 11,
   "metadata": {
    "ExecuteTime": {
     "end_time": "2021-09-15T07:05:18.888411Z",
     "start_time": "2021-09-15T07:05:18.679410Z"
    }
   },
   "outputs": [
    {
     "name": "stdout",
     "output_type": "stream",
     "text": [
      "First timestamp of dataset is 1906-11-11 00:00:00 and last timestamp is 2014-05-08 18:45:00.\n"
     ]
    }
   ],
   "source": [
    "print('First timestamp of dataset is {} and last timestamp is {}.'.format(min(df.datetime), max(df.datetime)))"
   ]
  },
  {
   "cell_type": "markdown",
   "metadata": {},
   "source": [
    "### Search for duplicated dates"
   ]
  },
  {
   "cell_type": "code",
   "execution_count": 23,
   "metadata": {
    "ExecuteTime": {
     "end_time": "2021-09-15T07:09:15.962056Z",
     "start_time": "2021-09-15T07:09:15.931028Z"
    }
   },
   "outputs": [
    {
     "data": {
      "text/html": [
       "<div>\n",
       "<style scoped>\n",
       "    .dataframe tbody tr th:only-of-type {\n",
       "        vertical-align: middle;\n",
       "    }\n",
       "\n",
       "    .dataframe tbody tr th {\n",
       "        vertical-align: top;\n",
       "    }\n",
       "\n",
       "    .dataframe thead th {\n",
       "        text-align: right;\n",
       "    }\n",
       "</style>\n",
       "<table border=\"1\" class=\"dataframe\">\n",
       "  <thead>\n",
       "    <tr style=\"text-align: right;\">\n",
       "      <th></th>\n",
       "      <th>datetime</th>\n",
       "      <th>size</th>\n",
       "    </tr>\n",
       "  </thead>\n",
       "  <tbody>\n",
       "    <tr>\n",
       "      <th>41</th>\n",
       "      <td>1943-08-15 00:00:00</td>\n",
       "      <td>1.0</td>\n",
       "    </tr>\n",
       "    <tr>\n",
       "      <th>45</th>\n",
       "      <td>1944-01-01 12:00:00</td>\n",
       "      <td>1.0</td>\n",
       "    </tr>\n",
       "    <tr>\n",
       "      <th>59</th>\n",
       "      <td>1945-06-01 12:00:00</td>\n",
       "      <td>1.0</td>\n",
       "    </tr>\n",
       "    <tr>\n",
       "      <th>97</th>\n",
       "      <td>1947-07-01 20:00:00</td>\n",
       "      <td>1.0</td>\n",
       "    </tr>\n",
       "    <tr>\n",
       "      <th>110</th>\n",
       "      <td>1947-07-15 15:00:00</td>\n",
       "      <td>1.0</td>\n",
       "    </tr>\n",
       "    <tr>\n",
       "      <th>...</th>\n",
       "      <td>...</td>\n",
       "      <td>...</td>\n",
       "    </tr>\n",
       "    <tr>\n",
       "      <th>75980</th>\n",
       "      <td>2014-05-03 22:00:00</td>\n",
       "      <td>1.0</td>\n",
       "    </tr>\n",
       "    <tr>\n",
       "      <th>75984</th>\n",
       "      <td>2014-05-03 22:30:00</td>\n",
       "      <td>1.0</td>\n",
       "    </tr>\n",
       "    <tr>\n",
       "      <th>76021</th>\n",
       "      <td>2014-05-06 22:00:00</td>\n",
       "      <td>1.0</td>\n",
       "    </tr>\n",
       "    <tr>\n",
       "      <th>76024</th>\n",
       "      <td>2014-05-06 23:00:00</td>\n",
       "      <td>1.0</td>\n",
       "    </tr>\n",
       "    <tr>\n",
       "      <th>76032</th>\n",
       "      <td>2014-05-07 20:30:00</td>\n",
       "      <td>1.0</td>\n",
       "    </tr>\n",
       "  </tbody>\n",
       "</table>\n",
       "<p>8670 rows × 2 columns</p>\n",
       "</div>"
      ],
      "text/plain": [
       "                 datetime  size\n",
       "41    1943-08-15 00:00:00   1.0\n",
       "45    1944-01-01 12:00:00   1.0\n",
       "59    1945-06-01 12:00:00   1.0\n",
       "97    1947-07-01 20:00:00   1.0\n",
       "110   1947-07-15 15:00:00   1.0\n",
       "...                   ...   ...\n",
       "75980 2014-05-03 22:00:00   1.0\n",
       "75984 2014-05-03 22:30:00   1.0\n",
       "76021 2014-05-06 22:00:00   1.0\n",
       "76024 2014-05-06 23:00:00   1.0\n",
       "76032 2014-05-07 20:30:00   1.0\n",
       "\n",
       "[8670 rows x 2 columns]"
      ]
     },
     "execution_count": 23,
     "metadata": {},
     "output_type": "execute_result"
    }
   ],
   "source": [
    "dfBySize = (df.groupby('datetime').size() > 1).astype(float).to_frame().reset_index()\n",
    "dfBySize.columns = ['datetime', 'size']\n",
    "dfBySize[dfBySize['size'] > 0]"
   ]
  },
  {
   "cell_type": "code",
   "execution_count": 25,
   "metadata": {
    "ExecuteTime": {
     "end_time": "2021-09-15T07:09:54.510002Z",
     "start_time": "2021-09-15T07:09:54.494998Z"
    }
   },
   "outputs": [
    {
     "data": {
      "text/html": [
       "<div>\n",
       "<style scoped>\n",
       "    .dataframe tbody tr th:only-of-type {\n",
       "        vertical-align: middle;\n",
       "    }\n",
       "\n",
       "    .dataframe tbody tr th {\n",
       "        vertical-align: top;\n",
       "    }\n",
       "\n",
       "    .dataframe thead th {\n",
       "        text-align: right;\n",
       "    }\n",
       "</style>\n",
       "<table border=\"1\" class=\"dataframe\">\n",
       "  <thead>\n",
       "    <tr style=\"text-align: right;\">\n",
       "      <th></th>\n",
       "      <th>datetime</th>\n",
       "      <th>city</th>\n",
       "      <th>state</th>\n",
       "      <th>country</th>\n",
       "      <th>shape</th>\n",
       "      <th>duration (seconds)</th>\n",
       "      <th>duration (hours/min)</th>\n",
       "      <th>comments</th>\n",
       "      <th>date posted</th>\n",
       "      <th>latitude</th>\n",
       "      <th>longitude</th>\n",
       "      <th>datetime_str</th>\n",
       "    </tr>\n",
       "  </thead>\n",
       "  <tbody>\n",
       "    <tr>\n",
       "      <th>11941</th>\n",
       "      <td>1944-01-01 12:00:00</td>\n",
       "      <td>san diego</td>\n",
       "      <td>ca</td>\n",
       "      <td>us</td>\n",
       "      <td>cigar</td>\n",
       "      <td>180</td>\n",
       "      <td>3 minutes</td>\n",
       "      <td>A sighting of one silver or white enlongated c...</td>\n",
       "      <td>7/25/2004</td>\n",
       "      <td>32.7152778</td>\n",
       "      <td>-117.156389</td>\n",
       "      <td>1944-01-01 12:00</td>\n",
       "    </tr>\n",
       "    <tr>\n",
       "      <th>11942</th>\n",
       "      <td>1944-01-01 12:00:00</td>\n",
       "      <td>wilderness</td>\n",
       "      <td>wv</td>\n",
       "      <td>NaN</td>\n",
       "      <td>disk</td>\n",
       "      <td>1814400</td>\n",
       "      <td>3 weeks</td>\n",
       "      <td>Two related reports of possible predecessor to...</td>\n",
       "      <td>7/8/2004</td>\n",
       "      <td>0</td>\n",
       "      <td>0.000000</td>\n",
       "      <td>1944-01-01 12:00</td>\n",
       "    </tr>\n",
       "  </tbody>\n",
       "</table>\n",
       "</div>"
      ],
      "text/plain": [
       "                 datetime        city state country  shape duration (seconds)  \\\n",
       "11941 1944-01-01 12:00:00   san diego    ca      us  cigar                180   \n",
       "11942 1944-01-01 12:00:00  wilderness    wv     NaN   disk            1814400   \n",
       "\n",
       "      duration (hours/min)                                           comments  \\\n",
       "11941            3 minutes  A sighting of one silver or white enlongated c...   \n",
       "11942              3 weeks  Two related reports of possible predecessor to...   \n",
       "\n",
       "      date posted    latitude   longitude      datetime_str  \n",
       "11941   7/25/2004  32.7152778 -117.156389  1944-01-01 12:00  \n",
       "11942    7/8/2004           0    0.000000  1944-01-01 12:00  "
      ]
     },
     "execution_count": 25,
     "metadata": {},
     "output_type": "execute_result"
    }
   ],
   "source": [
    "df[df.datetime == '1944-01-01 12:00:00']"
   ]
  },
  {
   "cell_type": "code",
   "execution_count": 13,
   "metadata": {
    "ExecuteTime": {
     "end_time": "2021-06-30T07:22:55.077385Z",
     "start_time": "2021-06-30T07:22:54.993357Z"
    }
   },
   "outputs": [
    {
     "data": {
      "text/plain": [
       "False    67370\n",
       "True      8670\n",
       "dtype: int64"
      ]
     },
     "execution_count": 13,
     "metadata": {},
     "output_type": "execute_result"
    }
   ],
   "source": [
    "(df.groupby('datetime').size() > 1).value_counts()"
   ]
  },
  {
   "cell_type": "code",
   "execution_count": 14,
   "metadata": {
    "ExecuteTime": {
     "end_time": "2021-06-30T07:23:22.494201Z",
     "start_time": "2021-06-30T07:23:22.403161Z"
    }
   },
   "outputs": [
    {
     "data": {
      "text/plain": [
       "False    67370\n",
       "True      8670\n",
       "dtype: int64"
      ]
     },
     "execution_count": 14,
     "metadata": {},
     "output_type": "execute_result"
    }
   ],
   "source": [
    "(df.groupby('datetime_2').size() > 1).value_counts()"
   ]
  },
  {
   "cell_type": "code",
   "execution_count": 27,
   "metadata": {
    "ExecuteTime": {
     "end_time": "2021-09-15T07:12:14.861862Z",
     "start_time": "2021-09-15T07:12:14.838822Z"
    }
   },
   "outputs": [
    {
     "data": {
      "text/plain": [
       "RangeIndex(start=0, stop=88875, step=1)"
      ]
     },
     "execution_count": 27,
     "metadata": {},
     "output_type": "execute_result"
    }
   ],
   "source": [
    "df.datetime.isin(df.groupby('datetime').size() > 1).index#.to_list()"
   ]
  },
  {
   "cell_type": "code",
   "execution_count": 16,
   "metadata": {
    "ExecuteTime": {
     "end_time": "2021-06-30T07:23:44.048127Z",
     "start_time": "2021-06-30T07:23:43.963094Z"
    }
   },
   "outputs": [],
   "source": [
    "df_dupl = (df.groupby('datetime_2').size() > 1).to_frame()"
   ]
  },
  {
   "cell_type": "code",
   "execution_count": 17,
   "metadata": {
    "ExecuteTime": {
     "end_time": "2021-06-30T07:23:44.968611Z",
     "start_time": "2021-06-30T07:23:44.965603Z"
    }
   },
   "outputs": [],
   "source": [
    "df_dupl.columns = ['# of entries']"
   ]
  },
  {
   "cell_type": "code",
   "execution_count": 18,
   "metadata": {
    "ExecuteTime": {
     "end_time": "2021-06-30T07:23:46.182167Z",
     "start_time": "2021-06-30T07:23:46.174124Z"
    }
   },
   "outputs": [
    {
     "data": {
      "text/plain": [
       "Index(['1943-08-15 00:00', '1944-01-01 12:00', '1945-06-01 12:00',\n",
       "       '1947-07-01 20:00', '1947-07-15 15:00', '1947-07-15 21:00',\n",
       "       '1948-06-01 00:00', '1949-09-15 21:00', '1950-06-15 20:00',\n",
       "       '1950-06-30 17:30',\n",
       "       ...\n",
       "       '2014-05-01 21:15', '2014-05-01 21:30', '2014-05-01 23:00',\n",
       "       '2014-05-02 22:00', '2014-05-03 21:00', '2014-05-03 22:00',\n",
       "       '2014-05-03 22:30', '2014-05-06 22:00', '2014-05-06 23:00',\n",
       "       '2014-05-07 20:30'],\n",
       "      dtype='object', name='datetime_2', length=8670)"
      ]
     },
     "execution_count": 18,
     "metadata": {},
     "output_type": "execute_result"
    }
   ],
   "source": [
    "df_dupl[df_dupl['# of entries'] == True].index"
   ]
  },
  {
   "cell_type": "code",
   "execution_count": 19,
   "metadata": {
    "ExecuteTime": {
     "end_time": "2021-06-30T07:24:00.432812Z",
     "start_time": "2021-06-30T07:24:00.413782Z"
    }
   },
   "outputs": [
    {
     "data": {
      "text/html": [
       "<div>\n",
       "<style scoped>\n",
       "    .dataframe tbody tr th:only-of-type {\n",
       "        vertical-align: middle;\n",
       "    }\n",
       "\n",
       "    .dataframe tbody tr th {\n",
       "        vertical-align: top;\n",
       "    }\n",
       "\n",
       "    .dataframe thead th {\n",
       "        text-align: right;\n",
       "    }\n",
       "</style>\n",
       "<table border=\"1\" class=\"dataframe\">\n",
       "  <thead>\n",
       "    <tr style=\"text-align: right;\">\n",
       "      <th></th>\n",
       "      <th>datetime</th>\n",
       "      <th>city</th>\n",
       "      <th>state</th>\n",
       "      <th>country</th>\n",
       "      <th>shape</th>\n",
       "      <th>duration (seconds)</th>\n",
       "      <th>duration (hours/min)</th>\n",
       "      <th>comments</th>\n",
       "      <th>date posted</th>\n",
       "      <th>latitude</th>\n",
       "      <th>longitude</th>\n",
       "      <th>datetime_2</th>\n",
       "    </tr>\n",
       "  </thead>\n",
       "  <tbody>\n",
       "    <tr>\n",
       "      <th>73312</th>\n",
       "      <td>1943-08-15</td>\n",
       "      <td>unknown</td>\n",
       "      <td>la</td>\n",
       "      <td>NaN</td>\n",
       "      <td>light</td>\n",
       "      <td>900</td>\n",
       "      <td>10-15 minutes</td>\n",
       "      <td>1942    Louisiana    midnight     light like a...</td>\n",
       "      <td>2/14/2008</td>\n",
       "      <td>37.245443</td>\n",
       "      <td>-107.827839</td>\n",
       "      <td>1943-08-15 00:00</td>\n",
       "    </tr>\n",
       "    <tr>\n",
       "      <th>73313</th>\n",
       "      <td>1943-08-15</td>\n",
       "      <td>unknown</td>\n",
       "      <td>la</td>\n",
       "      <td>NaN</td>\n",
       "      <td>unknown</td>\n",
       "      <td>720</td>\n",
       "      <td>10-12 minutes</td>\n",
       "      <td>White light at midnight traveling into outer s...</td>\n",
       "      <td>1/30/2014</td>\n",
       "      <td>37.245443</td>\n",
       "      <td>-107.827839</td>\n",
       "      <td>1943-08-15 00:00</td>\n",
       "    </tr>\n",
       "  </tbody>\n",
       "</table>\n",
       "</div>"
      ],
      "text/plain": [
       "        datetime     city state country    shape duration (seconds)  \\\n",
       "73312 1943-08-15  unknown    la     NaN    light                900   \n",
       "73313 1943-08-15  unknown    la     NaN  unknown                720   \n",
       "\n",
       "      duration (hours/min)                                           comments  \\\n",
       "73312        10-15 minutes  1942    Louisiana    midnight     light like a...   \n",
       "73313        10-12 minutes  White light at midnight traveling into outer s...   \n",
       "\n",
       "      date posted   latitude   longitude        datetime_2  \n",
       "73312   2/14/2008  37.245443 -107.827839  1943-08-15 00:00  \n",
       "73313   1/30/2014  37.245443 -107.827839  1943-08-15 00:00  "
      ]
     },
     "execution_count": 19,
     "metadata": {},
     "output_type": "execute_result"
    }
   ],
   "source": [
    "df[df.datetime == '1943-08-15 00:00']#.shape[0]"
   ]
  },
  {
   "cell_type": "code",
   "execution_count": 28,
   "metadata": {
    "ExecuteTime": {
     "end_time": "2021-09-15T07:12:30.301706Z",
     "start_time": "2021-09-15T07:12:30.242373Z"
    }
   },
   "outputs": [],
   "source": [
    "# %timeit \n",
    "df_dupl = df.loc[df.datetime.isin(df.groupby('datetime').size() > 1).index.to_list()]"
   ]
  },
  {
   "cell_type": "code",
   "execution_count": 30,
   "metadata": {
    "ExecuteTime": {
     "end_time": "2021-09-15T07:12:35.305764Z",
     "start_time": "2021-09-15T07:12:35.284731Z"
    }
   },
   "outputs": [
    {
     "data": {
      "text/html": [
       "<div>\n",
       "<style scoped>\n",
       "    .dataframe tbody tr th:only-of-type {\n",
       "        vertical-align: middle;\n",
       "    }\n",
       "\n",
       "    .dataframe tbody tr th {\n",
       "        vertical-align: top;\n",
       "    }\n",
       "\n",
       "    .dataframe thead th {\n",
       "        text-align: right;\n",
       "    }\n",
       "</style>\n",
       "<table border=\"1\" class=\"dataframe\">\n",
       "  <thead>\n",
       "    <tr style=\"text-align: right;\">\n",
       "      <th></th>\n",
       "      <th>datetime</th>\n",
       "      <th>city</th>\n",
       "      <th>state</th>\n",
       "      <th>country</th>\n",
       "      <th>shape</th>\n",
       "      <th>duration (seconds)</th>\n",
       "      <th>duration (hours/min)</th>\n",
       "      <th>comments</th>\n",
       "      <th>date posted</th>\n",
       "      <th>latitude</th>\n",
       "      <th>longitude</th>\n",
       "      <th>datetime_str</th>\n",
       "    </tr>\n",
       "  </thead>\n",
       "  <tbody>\n",
       "    <tr>\n",
       "      <th>0</th>\n",
       "      <td>1949-10-10 20:30:00</td>\n",
       "      <td>san marcos</td>\n",
       "      <td>tx</td>\n",
       "      <td>us</td>\n",
       "      <td>cylinder</td>\n",
       "      <td>2700</td>\n",
       "      <td>45 minutes</td>\n",
       "      <td>This event took place in early fall around 194...</td>\n",
       "      <td>4/27/2004</td>\n",
       "      <td>29.8830556</td>\n",
       "      <td>-97.941111</td>\n",
       "      <td>1949-10-10 20:30</td>\n",
       "    </tr>\n",
       "    <tr>\n",
       "      <th>1</th>\n",
       "      <td>1949-10-10 21:00:00</td>\n",
       "      <td>lackland afb</td>\n",
       "      <td>tx</td>\n",
       "      <td>NaN</td>\n",
       "      <td>light</td>\n",
       "      <td>7200</td>\n",
       "      <td>1-2 hrs</td>\n",
       "      <td>1949 Lackland AFB&amp;#44 TX.  Lights racing acros...</td>\n",
       "      <td>12/16/2005</td>\n",
       "      <td>29.38421</td>\n",
       "      <td>-98.581082</td>\n",
       "      <td>1949-10-10 21:00</td>\n",
       "    </tr>\n",
       "    <tr>\n",
       "      <th>2</th>\n",
       "      <td>1955-10-10 17:00:00</td>\n",
       "      <td>chester (uk/england)</td>\n",
       "      <td>NaN</td>\n",
       "      <td>gb</td>\n",
       "      <td>circle</td>\n",
       "      <td>20</td>\n",
       "      <td>20 seconds</td>\n",
       "      <td>Green/Orange circular disc over Chester&amp;#44 En...</td>\n",
       "      <td>1/21/2008</td>\n",
       "      <td>53.2</td>\n",
       "      <td>-2.916667</td>\n",
       "      <td>1955-10-10 17:00</td>\n",
       "    </tr>\n",
       "    <tr>\n",
       "      <th>3</th>\n",
       "      <td>1956-10-10 21:00:00</td>\n",
       "      <td>edna</td>\n",
       "      <td>tx</td>\n",
       "      <td>us</td>\n",
       "      <td>circle</td>\n",
       "      <td>20</td>\n",
       "      <td>1/2 hour</td>\n",
       "      <td>My older brother and twin sister were leaving ...</td>\n",
       "      <td>1/17/2004</td>\n",
       "      <td>28.9783333</td>\n",
       "      <td>-96.645833</td>\n",
       "      <td>1956-10-10 21:00</td>\n",
       "    </tr>\n",
       "    <tr>\n",
       "      <th>4</th>\n",
       "      <td>1960-10-10 20:00:00</td>\n",
       "      <td>kaneohe</td>\n",
       "      <td>hi</td>\n",
       "      <td>us</td>\n",
       "      <td>light</td>\n",
       "      <td>900</td>\n",
       "      <td>15 minutes</td>\n",
       "      <td>AS a Marine 1st Lt. flying an FJ4B fighter/att...</td>\n",
       "      <td>1/22/2004</td>\n",
       "      <td>21.4180556</td>\n",
       "      <td>-157.803611</td>\n",
       "      <td>1960-10-10 20:00</td>\n",
       "    </tr>\n",
       "    <tr>\n",
       "      <th>5</th>\n",
       "      <td>1961-10-10 19:00:00</td>\n",
       "      <td>bristol</td>\n",
       "      <td>tn</td>\n",
       "      <td>us</td>\n",
       "      <td>sphere</td>\n",
       "      <td>300</td>\n",
       "      <td>5 minutes</td>\n",
       "      <td>My father is now 89 my brother 52 the girl wit...</td>\n",
       "      <td>4/27/2007</td>\n",
       "      <td>36.5950000</td>\n",
       "      <td>-82.188889</td>\n",
       "      <td>1961-10-10 19:00</td>\n",
       "    </tr>\n",
       "    <tr>\n",
       "      <th>6</th>\n",
       "      <td>1965-10-10 21:00:00</td>\n",
       "      <td>penarth (uk/wales)</td>\n",
       "      <td>NaN</td>\n",
       "      <td>gb</td>\n",
       "      <td>circle</td>\n",
       "      <td>180</td>\n",
       "      <td>about 3 mins</td>\n",
       "      <td>penarth uk  circle  3mins  stayed 30ft above m...</td>\n",
       "      <td>2/14/2006</td>\n",
       "      <td>51.434722</td>\n",
       "      <td>-3.180000</td>\n",
       "      <td>1965-10-10 21:00</td>\n",
       "    </tr>\n",
       "    <tr>\n",
       "      <th>7</th>\n",
       "      <td>1965-10-10 23:45:00</td>\n",
       "      <td>norwalk</td>\n",
       "      <td>ct</td>\n",
       "      <td>us</td>\n",
       "      <td>disk</td>\n",
       "      <td>1200</td>\n",
       "      <td>20 minutes</td>\n",
       "      <td>A bright orange color changing to reddish colo...</td>\n",
       "      <td>10/2/1999</td>\n",
       "      <td>41.1175000</td>\n",
       "      <td>-73.408333</td>\n",
       "      <td>1965-10-10 23:45</td>\n",
       "    </tr>\n",
       "    <tr>\n",
       "      <th>8</th>\n",
       "      <td>1966-10-10 20:00:00</td>\n",
       "      <td>pell city</td>\n",
       "      <td>al</td>\n",
       "      <td>us</td>\n",
       "      <td>disk</td>\n",
       "      <td>180</td>\n",
       "      <td>3  minutes</td>\n",
       "      <td>Strobe Lighted disk shape object observed clos...</td>\n",
       "      <td>3/19/2009</td>\n",
       "      <td>33.5861111</td>\n",
       "      <td>-86.286111</td>\n",
       "      <td>1966-10-10 20:00</td>\n",
       "    </tr>\n",
       "    <tr>\n",
       "      <th>9</th>\n",
       "      <td>1966-10-10 21:00:00</td>\n",
       "      <td>live oak</td>\n",
       "      <td>fl</td>\n",
       "      <td>us</td>\n",
       "      <td>disk</td>\n",
       "      <td>120</td>\n",
       "      <td>several minutes</td>\n",
       "      <td>Saucer zaps energy from powerline as my pregna...</td>\n",
       "      <td>5/11/2005</td>\n",
       "      <td>30.2947222</td>\n",
       "      <td>-82.984167</td>\n",
       "      <td>1966-10-10 21:00</td>\n",
       "    </tr>\n",
       "    <tr>\n",
       "      <th>10</th>\n",
       "      <td>1968-10-10 13:00:00</td>\n",
       "      <td>hawthorne</td>\n",
       "      <td>ca</td>\n",
       "      <td>us</td>\n",
       "      <td>circle</td>\n",
       "      <td>300</td>\n",
       "      <td>5 min.</td>\n",
       "      <td>ROUND &amp;#44 ORANGE &amp;#44 WITH WHAT I WOULD SAY W...</td>\n",
       "      <td>10/31/2003</td>\n",
       "      <td>33.9163889</td>\n",
       "      <td>-118.351667</td>\n",
       "      <td>1968-10-10 13:00</td>\n",
       "    </tr>\n",
       "    <tr>\n",
       "      <th>11</th>\n",
       "      <td>1968-10-10 19:00:00</td>\n",
       "      <td>brevard</td>\n",
       "      <td>nc</td>\n",
       "      <td>us</td>\n",
       "      <td>fireball</td>\n",
       "      <td>180</td>\n",
       "      <td>3 minutes</td>\n",
       "      <td>silent red /orange mass of energy floated by t...</td>\n",
       "      <td>6/12/2008</td>\n",
       "      <td>35.2333333</td>\n",
       "      <td>-82.734444</td>\n",
       "      <td>1968-10-10 19:00</td>\n",
       "    </tr>\n",
       "  </tbody>\n",
       "</table>\n",
       "</div>"
      ],
      "text/plain": [
       "              datetime                  city state country     shape  \\\n",
       "0  1949-10-10 20:30:00            san marcos    tx      us  cylinder   \n",
       "1  1949-10-10 21:00:00          lackland afb    tx     NaN     light   \n",
       "2  1955-10-10 17:00:00  chester (uk/england)   NaN      gb    circle   \n",
       "3  1956-10-10 21:00:00                  edna    tx      us    circle   \n",
       "4  1960-10-10 20:00:00               kaneohe    hi      us     light   \n",
       "5  1961-10-10 19:00:00               bristol    tn      us    sphere   \n",
       "6  1965-10-10 21:00:00    penarth (uk/wales)   NaN      gb    circle   \n",
       "7  1965-10-10 23:45:00               norwalk    ct      us      disk   \n",
       "8  1966-10-10 20:00:00             pell city    al      us      disk   \n",
       "9  1966-10-10 21:00:00              live oak    fl      us      disk   \n",
       "10 1968-10-10 13:00:00             hawthorne    ca      us    circle   \n",
       "11 1968-10-10 19:00:00               brevard    nc      us  fireball   \n",
       "\n",
       "   duration (seconds) duration (hours/min)  \\\n",
       "0                2700           45 minutes   \n",
       "1                7200              1-2 hrs   \n",
       "2                  20           20 seconds   \n",
       "3                  20             1/2 hour   \n",
       "4                 900           15 minutes   \n",
       "5                 300            5 minutes   \n",
       "6                 180         about 3 mins   \n",
       "7                1200           20 minutes   \n",
       "8                 180           3  minutes   \n",
       "9                 120      several minutes   \n",
       "10                300               5 min.   \n",
       "11                180            3 minutes   \n",
       "\n",
       "                                             comments date posted    latitude  \\\n",
       "0   This event took place in early fall around 194...   4/27/2004  29.8830556   \n",
       "1   1949 Lackland AFB&#44 TX.  Lights racing acros...  12/16/2005    29.38421   \n",
       "2   Green/Orange circular disc over Chester&#44 En...   1/21/2008        53.2   \n",
       "3   My older brother and twin sister were leaving ...   1/17/2004  28.9783333   \n",
       "4   AS a Marine 1st Lt. flying an FJ4B fighter/att...   1/22/2004  21.4180556   \n",
       "5   My father is now 89 my brother 52 the girl wit...   4/27/2007  36.5950000   \n",
       "6   penarth uk  circle  3mins  stayed 30ft above m...   2/14/2006   51.434722   \n",
       "7   A bright orange color changing to reddish colo...   10/2/1999  41.1175000   \n",
       "8   Strobe Lighted disk shape object observed clos...   3/19/2009  33.5861111   \n",
       "9   Saucer zaps energy from powerline as my pregna...   5/11/2005  30.2947222   \n",
       "10  ROUND &#44 ORANGE &#44 WITH WHAT I WOULD SAY W...  10/31/2003  33.9163889   \n",
       "11  silent red /orange mass of energy floated by t...   6/12/2008  35.2333333   \n",
       "\n",
       "     longitude      datetime_str  \n",
       "0   -97.941111  1949-10-10 20:30  \n",
       "1   -98.581082  1949-10-10 21:00  \n",
       "2    -2.916667  1955-10-10 17:00  \n",
       "3   -96.645833  1956-10-10 21:00  \n",
       "4  -157.803611  1960-10-10 20:00  \n",
       "5   -82.188889  1961-10-10 19:00  \n",
       "6    -3.180000  1965-10-10 21:00  \n",
       "7   -73.408333  1965-10-10 23:45  \n",
       "8   -86.286111  1966-10-10 20:00  \n",
       "9   -82.984167  1966-10-10 21:00  \n",
       "10 -118.351667  1968-10-10 13:00  \n",
       "11  -82.734444  1968-10-10 19:00  "
      ]
     },
     "execution_count": 30,
     "metadata": {},
     "output_type": "execute_result"
    }
   ],
   "source": [
    "df_dupl.head(12)"
   ]
  },
  {
   "cell_type": "markdown",
   "metadata": {},
   "source": [
    "## Create a test set"
   ]
  },
  {
   "cell_type": "markdown",
   "metadata": {},
   "source": [
    "### Random Sampling"
   ]
  },
  {
   "cell_type": "code",
   "execution_count": 23,
   "metadata": {
    "ExecuteTime": {
     "end_time": "2021-06-30T07:24:52.841643Z",
     "start_time": "2021-06-30T07:24:50.525343Z"
    }
   },
   "outputs": [],
   "source": [
    "from sklearn.model_selection import train_test_split"
   ]
  },
  {
   "cell_type": "code",
   "execution_count": 24,
   "metadata": {
    "ExecuteTime": {
     "end_time": "2021-06-30T07:24:52.876685Z",
     "start_time": "2021-06-30T07:24:52.843643Z"
    }
   },
   "outputs": [],
   "source": [
    "train_set, test_set = train_test_split(df, test_size = 0.2, random_state = 42)"
   ]
  },
  {
   "cell_type": "code",
   "execution_count": 25,
   "metadata": {
    "ExecuteTime": {
     "end_time": "2021-06-30T07:24:53.777290Z",
     "start_time": "2021-06-30T07:24:53.765288Z"
    }
   },
   "outputs": [
    {
     "data": {
      "text/html": [
       "<div>\n",
       "<style scoped>\n",
       "    .dataframe tbody tr th:only-of-type {\n",
       "        vertical-align: middle;\n",
       "    }\n",
       "\n",
       "    .dataframe tbody tr th {\n",
       "        vertical-align: top;\n",
       "    }\n",
       "\n",
       "    .dataframe thead th {\n",
       "        text-align: right;\n",
       "    }\n",
       "</style>\n",
       "<table border=\"1\" class=\"dataframe\">\n",
       "  <thead>\n",
       "    <tr style=\"text-align: right;\">\n",
       "      <th></th>\n",
       "      <th>datetime</th>\n",
       "      <th>city</th>\n",
       "      <th>state</th>\n",
       "      <th>country</th>\n",
       "      <th>shape</th>\n",
       "      <th>duration (seconds)</th>\n",
       "      <th>duration (hours/min)</th>\n",
       "      <th>comments</th>\n",
       "      <th>date posted</th>\n",
       "      <th>latitude</th>\n",
       "      <th>longitude</th>\n",
       "      <th>datetime_2</th>\n",
       "    </tr>\n",
       "  </thead>\n",
       "  <tbody>\n",
       "    <tr>\n",
       "      <th>25764</th>\n",
       "      <td>2006-01-27 01:00:00</td>\n",
       "      <td>armagh (republic of ireland)</td>\n",
       "      <td>NaN</td>\n",
       "      <td>NaN</td>\n",
       "      <td>unknown</td>\n",
       "      <td>1200</td>\n",
       "      <td>20 minutes</td>\n",
       "      <td>the lights in our town were too bright for any...</td>\n",
       "      <td>2/14/2006</td>\n",
       "      <td>0</td>\n",
       "      <td>0.000000</td>\n",
       "      <td>2006-01-27 01:00</td>\n",
       "    </tr>\n",
       "    <tr>\n",
       "      <th>53455</th>\n",
       "      <td>2011-06-12 22:56:00</td>\n",
       "      <td>hudson falls</td>\n",
       "      <td>ny</td>\n",
       "      <td>us</td>\n",
       "      <td>other</td>\n",
       "      <td>600</td>\n",
       "      <td>10 minutes</td>\n",
       "      <td>Spiral ufo seen in hudson falls.</td>\n",
       "      <td>6/20/2011</td>\n",
       "      <td>43.3005556</td>\n",
       "      <td>-73.586389</td>\n",
       "      <td>2011-06-12 22:56</td>\n",
       "    </tr>\n",
       "  </tbody>\n",
       "</table>\n",
       "</div>"
      ],
      "text/plain": [
       "                 datetime                          city state country  \\\n",
       "25764 2006-01-27 01:00:00  armagh (republic of ireland)   NaN     NaN   \n",
       "53455 2011-06-12 22:56:00                  hudson falls    ny      us   \n",
       "\n",
       "         shape duration (seconds) duration (hours/min)  \\\n",
       "25764  unknown               1200           20 minutes   \n",
       "53455    other                600           10 minutes   \n",
       "\n",
       "                                                comments date posted  \\\n",
       "25764  the lights in our town were too bright for any...   2/14/2006   \n",
       "53455                   Spiral ufo seen in hudson falls.   6/20/2011   \n",
       "\n",
       "         latitude  longitude        datetime_2  \n",
       "25764           0   0.000000  2006-01-27 01:00  \n",
       "53455  43.3005556 -73.586389  2011-06-12 22:56  "
      ]
     },
     "execution_count": 25,
     "metadata": {},
     "output_type": "execute_result"
    }
   ],
   "source": [
    "train_set.head(2)"
   ]
  },
  {
   "cell_type": "markdown",
   "metadata": {
    "ExecuteTime": {
     "end_time": "2020-06-15T05:12:33.159559Z",
     "start_time": "2020-06-15T05:12:33.150558Z"
    }
   },
   "source": [
    "This is simple **random sampling**."
   ]
  },
  {
   "cell_type": "markdown",
   "metadata": {},
   "source": [
    "### Stratified Sampling"
   ]
  },
  {
   "cell_type": "code",
   "execution_count": 26,
   "metadata": {
    "ExecuteTime": {
     "end_time": "2021-06-30T07:25:31.542602Z",
     "start_time": "2021-06-30T07:25:31.511604Z"
    }
   },
   "outputs": [
    {
     "data": {
      "text/plain": [
       "seattle                   570\n",
       "phoenix                   488\n",
       "portland                  399\n",
       "las vegas                 395\n",
       "los angeles               375\n",
       "                         ... \n",
       "raynham (northeast of)      1\n",
       "castries (st. lucia)        1\n",
       "harris ranch                1\n",
       "ledbetter                   1\n",
       "beaverton/tigard            1\n",
       "Name: city, Length: 22018, dtype: int64"
      ]
     },
     "execution_count": 26,
     "metadata": {},
     "output_type": "execute_result"
    }
   ],
   "source": [
    "df.city.value_counts()"
   ]
  }
 ],
 "metadata": {
  "hide_input": false,
  "kernelspec": {
   "display_name": "Python 3",
   "language": "python",
   "name": "python3"
  },
  "language_info": {
   "codemirror_mode": {
    "name": "ipython",
    "version": 3
   },
   "file_extension": ".py",
   "mimetype": "text/x-python",
   "name": "python",
   "nbconvert_exporter": "python",
   "pygments_lexer": "ipython3",
   "version": "3.7.1"
  },
  "toc": {
   "base_numbering": 1,
   "nav_menu": {},
   "number_sections": true,
   "sideBar": true,
   "skip_h1_title": false,
   "title_cell": "Table of Contents",
   "title_sidebar": "Contents",
   "toc_cell": false,
   "toc_position": {},
   "toc_section_display": true,
   "toc_window_display": true
  }
 },
 "nbformat": 4,
 "nbformat_minor": 4
}
