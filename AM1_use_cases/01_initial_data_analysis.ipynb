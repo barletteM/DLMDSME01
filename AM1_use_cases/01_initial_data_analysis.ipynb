{
 "cells": [
  {
   "cell_type": "markdown",
   "metadata": {},
   "source": [
    "# Use Case Data Sets"
   ]
  },
  {
   "cell_type": "code",
   "execution_count": 2,
   "metadata": {
    "ExecuteTime": {
     "end_time": "2021-06-30T07:58:43.889876Z",
     "start_time": "2021-06-30T07:58:43.237864Z"
    }
   },
   "outputs": [],
   "source": [
    "# Common imports\n",
    "import numpy as np # numpy is THE toolbox for scientific computing with python\n",
    "import pandas as pd # pandas provides THE data structure and data analysis tools for data scientists \n",
    "import pickle # we have to import a pickle file\n",
    "import os \n",
    "from datetime import timedelta, date\n",
    "\n",
    "# maximum number of columns\n",
    "pd.set_option(\"display.max_rows\", 101)\n",
    "pd.set_option(\"display.max_columns\", 101)\n",
    "\n",
    "# To plot pretty figures\n",
    "%matplotlib inline\n",
    "import matplotlib as mpl\n",
    "import matplotlib.pyplot as plt\n",
    "mpl.rc('axes', labelsize=14)\n",
    "mpl.rc('xtick', labelsize=12)\n",
    "mpl.rc('ytick', labelsize=12)"
   ]
  },
  {
   "cell_type": "markdown",
   "metadata": {},
   "source": [
    "# Airline Case Study"
   ]
  },
  {
   "cell_type": "code",
   "execution_count": 14,
   "metadata": {
    "ExecuteTime": {
     "end_time": "2021-06-30T08:11:44.687517Z",
     "start_time": "2021-06-30T08:11:44.586495Z"
    }
   },
   "outputs": [],
   "source": [
    "df_flight = pd.read_csv('../../' + '06_case_studies/data/data3/use_case_3/' + 'flight_information.csv')\n",
    "df_ground = pd.read_csv('../../' + '06_case_studies/data/data3/use_case_3/' + 'ground_information.csv')"
   ]
  },
  {
   "cell_type": "code",
   "execution_count": 15,
   "metadata": {
    "ExecuteTime": {
     "end_time": "2021-06-30T08:11:45.761792Z",
     "start_time": "2021-06-30T08:11:45.754763Z"
    }
   },
   "outputs": [
    {
     "data": {
      "text/plain": [
       "Index(['Unnamed: 0', 'leg_no', 'fn_carrier', 'fn_number', 'dep_ap_sched',\n",
       "       'arr_ap_sched', 'dep_sched_date', 'dep_sched_time', 'arr_sched_date',\n",
       "       'arr_sched_time', 'm_offblockdt', 'm_onblockdt', 'ac_registration',\n",
       "       'change_reason_code', 'dep_delay', 'Ac Type Code', 'trans_time',\n",
       "       'sched_trans_time', 'Crew Group', 'TLC_trans', 'crew_type_change',\n",
       "       'Sched Groundtime', 'Act Groundtime'],\n",
       "      dtype='object')"
      ]
     },
     "execution_count": 15,
     "metadata": {},
     "output_type": "execute_result"
    }
   ],
   "source": [
    "df_flight.columns"
   ]
  },
  {
   "cell_type": "code",
   "execution_count": 18,
   "metadata": {
    "ExecuteTime": {
     "end_time": "2021-06-30T08:14:11.753679Z",
     "start_time": "2021-06-30T08:14:11.748680Z"
    }
   },
   "outputs": [],
   "source": [
    "df_flight = df_flight.drop(['Unnamed: 0', 'TLC_trans', 'crew_type_change'], axis = 1)"
   ]
  },
  {
   "cell_type": "code",
   "execution_count": 21,
   "metadata": {
    "ExecuteTime": {
     "end_time": "2021-06-30T08:19:28.987701Z",
     "start_time": "2021-06-30T08:19:28.864665Z"
    }
   },
   "outputs": [],
   "source": [
    "df_flight.to_csv('C:/Users/A062471/Documents/PROJECTS/iubh/model_engineering/06_case_studies/data/data3/use_case_3/flight_information.csv', index = False)"
   ]
  },
  {
   "cell_type": "code",
   "execution_count": 22,
   "metadata": {
    "ExecuteTime": {
     "end_time": "2021-06-30T08:20:55.107033Z",
     "start_time": "2021-06-30T08:20:55.102032Z"
    }
   },
   "outputs": [],
   "source": [
    "df_ground = df_ground.drop('Unnamed: 0', axis = 1)"
   ]
  },
  {
   "cell_type": "code",
   "execution_count": 23,
   "metadata": {
    "ExecuteTime": {
     "end_time": "2021-06-30T08:21:18.082159Z",
     "start_time": "2021-06-30T08:21:18.077157Z"
    }
   },
   "outputs": [
    {
     "data": {
      "text/plain": [
       "Index(['day_of_origin', 'ac_type', 'fn_number', 'ac_registration', 'mingt',\n",
       "       'dep_leg_inbound', 'arr_leg_inbound', 'arr_leg_outbound',\n",
       "       'sched_inbound_dep', 'sched_inbound_arr', 'sched_outbound_dep',\n",
       "       'sched_outbound_arr', 'sched_turnaround', 'leg_inbound', 'leg_outbound',\n",
       "       'catering_duration', 'cleaning_duration', 'pax_boarding_duration'],\n",
       "      dtype='object')"
      ]
     },
     "execution_count": 23,
     "metadata": {},
     "output_type": "execute_result"
    }
   ],
   "source": [
    "df_ground.columns"
   ]
  },
  {
   "cell_type": "code",
   "execution_count": 24,
   "metadata": {
    "ExecuteTime": {
     "end_time": "2021-06-30T08:21:33.443964Z",
     "start_time": "2021-06-30T08:21:33.393965Z"
    }
   },
   "outputs": [],
   "source": [
    "df_ground.to_csv('C:/Users/A062471/Documents/PROJECTS/iubh/model_engineering/06_case_studies/data/data3/use_case_3/ground_information.csv', index = False)"
   ]
  },
  {
   "cell_type": "code",
   "execution_count": 17,
   "metadata": {
    "ExecuteTime": {
     "end_time": "2021-06-30T08:13:45.546622Z",
     "start_time": "2021-06-30T08:13:45.537619Z"
    }
   },
   "outputs": [
    {
     "data": {
      "text/plain": [
       "[]                                                  9993\n",
       "['cp']                                               265\n",
       "['ca']                                               227\n",
       "['cp', 'cp']                                         195\n",
       "['ca', 'cp', 'ca']                                    74\n",
       "['cp', 'ca', 'ca']                                    73\n",
       "['ca', 'ca', 'ca', 'cp', 'cp']                        68\n",
       "['cp', 'ca', 'ca', 'ca', 'cp']                        65\n",
       "['cp', 'cp', 'ca', 'ca', 'ca']                        65\n",
       "['ca', 'ca', 'cp']                                    62\n",
       "['ca', 'cp', 'ca', 'ca', 'cp']                        53\n",
       "['ca', 'ca']                                          51\n",
       "['ca', 'cp', 'cp', 'ca', 'ca']                        47\n",
       "['cp', 'ca', 'ca', 'ca']                              46\n",
       "['ca', 'cp', 'ca', 'cp', 'ca']                        44\n",
       "['ca', 'ca', 'cp', 'cp', 'ca']                        43\n",
       "['cp', 'ca', 'ca', 'cp', 'ca']                        42\n",
       "['ca', 'cp']                                          42\n",
       "['ca', 'ca', 'ca']                                    41\n",
       "['ca', 'ca', 'cp', 'ca']                              38\n",
       "['ca', 'ca', 'ca', 'cp']                              37\n",
       "['ca', 'ca', 'cp', 'ca', 'cp']                        36\n",
       "['cp', 'ca', 'cp', 'ca']                              35\n",
       "['ca', 'ca', 'cp', 'cp']                              34\n",
       "['cp', 'ca', 'ca', 'cp']                              31\n",
       "['cp', 'ca', 'cp']                                    29\n",
       "['cp', 'cp', 'ca', 'ca']                              28\n",
       "['ca', 'cp', 'ca', 'ca']                              27\n",
       "['ca', 'cp', 'cp']                                    26\n",
       "['cp', 'ca', 'cp', 'ca', 'ca']                        25\n",
       "['ca', 'ca', 'ca', 'ca']                              25\n",
       "['cp', 'cp', 'ca']                                    23\n",
       "['ca', 'cp', 'ca', 'cp']                              20\n",
       "['ca', 'cp', 'cp', 'ca']                              20\n",
       "['cp', 'ca']                                          20\n",
       "['ca', 'cp', 'ca', 'ca', 'ca']                        16\n",
       "['cp', 'ca', 'ca', 'ca', 'ca']                        14\n",
       "['ca', 'ca', 'cp', 'ca', 'ca']                         5\n",
       "['ca', 'ca', 'ca', 'cp', 'ca']                         4\n",
       "['cp', 'ca', 'ca', 'ca', 'cp', 'ca']                   4\n",
       "['ca', 'ca', 'ca', 'ca', 'cp']                         4\n",
       "['ca', 'cp', 'ca', 'ca', 'cp', 'cp']                   2\n",
       "['ca', 'cp', 'ca', 'ca', 'ca', 'cp']                   2\n",
       "['cp', 'cp', 'ca', 'ca', 'ca', 'ca']                   2\n",
       "['ca', 'ca', 'ca', 'cp', 'ca', 'cp']                   2\n",
       "['ca', 'cp', 'ca', 'ca', 'cp', 'ca']                   2\n",
       "['cp', 'ca', 'ca', 'ca', 'ca', 'cp', 'ca']             1\n",
       "['ca', 'cp', 'cp', 'ca', 'cp', 'ca']                   1\n",
       "['cp', 'cp', 'cp', 'ca']                               1\n",
       "['ca', 'cp', 'ca', 'cp', 'ca', 'ca']                   1\n",
       "['cp', 'ca', 'cp', 'cp']                               1\n",
       "['ca', 'ca', 'cp', 'ca', 'cp', 'ca']                   1\n",
       "['ca', 'cp', 'ca', 'cp', 'ca', 'ca', 'ca', 'cp']       1\n",
       "['cp', 'ca', 'cp', 'ca', 'ca', 'ca']                   1\n",
       "['ca', 'cp', 'cp', 'ca', 'ca', 'ca']                   1\n",
       "['ca', 'ca', 'cp', 'ca', 'ca', 'cp']                   1\n",
       "Name: crew_type_change, dtype: int64"
      ]
     },
     "execution_count": 17,
     "metadata": {},
     "output_type": "execute_result"
    }
   ],
   "source": [
    "df_flight.crew_type_change.value_counts()"
   ]
  },
  {
   "cell_type": "code",
   "execution_count": 11,
   "metadata": {
    "ExecuteTime": {
     "end_time": "2021-06-30T08:01:26.864760Z",
     "start_time": "2021-06-30T08:01:26.854763Z"
    }
   },
   "outputs": [],
   "source": [
    "df_flight = df_flight.drop('Unnamed: 0', axis = 1)\n"
   ]
  },
  {
   "cell_type": "code",
   "execution_count": 12,
   "metadata": {
    "ExecuteTime": {
     "end_time": "2021-06-30T08:01:47.719896Z",
     "start_time": "2021-06-30T08:01:47.654897Z"
    }
   },
   "outputs": [
    {
     "data": {
      "text/html": [
       "<div>\n",
       "<style scoped>\n",
       "    .dataframe tbody tr th:only-of-type {\n",
       "        vertical-align: middle;\n",
       "    }\n",
       "\n",
       "    .dataframe tbody tr th {\n",
       "        vertical-align: top;\n",
       "    }\n",
       "\n",
       "    .dataframe thead th {\n",
       "        text-align: right;\n",
       "    }\n",
       "</style>\n",
       "<table border=\"1\" class=\"dataframe\">\n",
       "  <thead>\n",
       "    <tr style=\"text-align: right;\">\n",
       "      <th></th>\n",
       "      <th>leg_no</th>\n",
       "      <th>fn_carrier</th>\n",
       "      <th>fn_number</th>\n",
       "      <th>dep_ap_sched</th>\n",
       "      <th>arr_ap_sched</th>\n",
       "      <th>dep_sched_date</th>\n",
       "      <th>dep_sched_time</th>\n",
       "      <th>arr_sched_date</th>\n",
       "      <th>arr_sched_time</th>\n",
       "      <th>m_offblockdt</th>\n",
       "      <th>m_onblockdt</th>\n",
       "      <th>ac_registration_x</th>\n",
       "      <th>change_reason_code</th>\n",
       "      <th>dep_delay</th>\n",
       "      <th>Ac Type Code</th>\n",
       "      <th>trans_time</th>\n",
       "      <th>sched_trans_time</th>\n",
       "      <th>Crew Group</th>\n",
       "      <th>TLC_trans</th>\n",
       "      <th>crew_type_change</th>\n",
       "      <th>Sched Groundtime</th>\n",
       "      <th>Act Groundtime</th>\n",
       "      <th>day_of_origin</th>\n",
       "      <th>ac_type</th>\n",
       "      <th>ac_registration_y</th>\n",
       "      <th>mingt</th>\n",
       "      <th>dep_leg_inbound</th>\n",
       "      <th>arr_leg_inbound</th>\n",
       "      <th>arr_leg_outbound</th>\n",
       "      <th>sched_inbound_dep</th>\n",
       "      <th>sched_inbound_arr</th>\n",
       "      <th>sched_outbound_dep</th>\n",
       "      <th>sched_outbound_arr</th>\n",
       "      <th>sched_turnaround</th>\n",
       "      <th>leg_inbound</th>\n",
       "      <th>leg_outbound</th>\n",
       "      <th>catering_duration</th>\n",
       "      <th>cleaning_duration</th>\n",
       "      <th>pax_boarding_duration</th>\n",
       "    </tr>\n",
       "  </thead>\n",
       "  <tbody>\n",
       "    <tr>\n",
       "      <th>0</th>\n",
       "      <td>272005011</td>\n",
       "      <td>East Carmen Airlines</td>\n",
       "      <td>EC3098</td>\n",
       "      <td>North Gregory</td>\n",
       "      <td>East Carmen</td>\n",
       "      <td>2019-06-01</td>\n",
       "      <td>00:40</td>\n",
       "      <td>2019-06-01</td>\n",
       "      <td>04:30</td>\n",
       "      <td>2019-06-01 00:43:00</td>\n",
       "      <td>2019-06-01 04:12:00</td>\n",
       "      <td>ECLBSX</td>\n",
       "      <td>other problem</td>\n",
       "      <td>3.0</td>\n",
       "      <td>320</td>\n",
       "      <td>0</td>\n",
       "      <td>0</td>\n",
       "      <td>Start</td>\n",
       "      <td>['Jason Brown_nan_nan_nan_cp', 'Jacob Stein_na...</td>\n",
       "      <td>[]</td>\n",
       "      <td>235.0</td>\n",
       "      <td>268.0</td>\n",
       "      <td>NaN</td>\n",
       "      <td>NaN</td>\n",
       "      <td>NaN</td>\n",
       "      <td>NaN</td>\n",
       "      <td>NaN</td>\n",
       "      <td>NaN</td>\n",
       "      <td>NaN</td>\n",
       "      <td>NaN</td>\n",
       "      <td>NaN</td>\n",
       "      <td>NaN</td>\n",
       "      <td>NaN</td>\n",
       "      <td>NaN</td>\n",
       "      <td>NaN</td>\n",
       "      <td>NaN</td>\n",
       "      <td>NaN</td>\n",
       "      <td>NaN</td>\n",
       "      <td>NaN</td>\n",
       "    </tr>\n",
       "    <tr>\n",
       "      <th>1</th>\n",
       "      <td>272009188</td>\n",
       "      <td>East Carmen Airlines</td>\n",
       "      <td>EC3146</td>\n",
       "      <td>Port Bobby</td>\n",
       "      <td>East Carmen</td>\n",
       "      <td>2019-06-01</td>\n",
       "      <td>02:05</td>\n",
       "      <td>2019-06-01</td>\n",
       "      <td>04:00</td>\n",
       "      <td>2019-06-01 01:58:00</td>\n",
       "      <td>2019-06-01 03:40:00</td>\n",
       "      <td>ECLWHX</td>\n",
       "      <td>no reason</td>\n",
       "      <td>-7.0</td>\n",
       "      <td>E95</td>\n",
       "      <td>0</td>\n",
       "      <td>0</td>\n",
       "      <td>Start</td>\n",
       "      <td>['Scott Baker_nan_nan_nan_cp', 'Ruth Hoffman_n...</td>\n",
       "      <td>[]</td>\n",
       "      <td>130.0</td>\n",
       "      <td>189.0</td>\n",
       "      <td>NaN</td>\n",
       "      <td>NaN</td>\n",
       "      <td>NaN</td>\n",
       "      <td>NaN</td>\n",
       "      <td>NaN</td>\n",
       "      <td>NaN</td>\n",
       "      <td>NaN</td>\n",
       "      <td>NaN</td>\n",
       "      <td>NaN</td>\n",
       "      <td>NaN</td>\n",
       "      <td>NaN</td>\n",
       "      <td>NaN</td>\n",
       "      <td>NaN</td>\n",
       "      <td>NaN</td>\n",
       "      <td>NaN</td>\n",
       "      <td>NaN</td>\n",
       "      <td>NaN</td>\n",
       "    </tr>\n",
       "    <tr>\n",
       "      <th>2</th>\n",
       "      <td>271984537</td>\n",
       "      <td>East Carmen Airlines</td>\n",
       "      <td>EC2840</td>\n",
       "      <td>Port Ryan</td>\n",
       "      <td>East Carmen</td>\n",
       "      <td>2019-06-01</td>\n",
       "      <td>02:20</td>\n",
       "      <td>2019-06-01</td>\n",
       "      <td>03:50</td>\n",
       "      <td>2019-06-01 02:24:00</td>\n",
       "      <td>2019-06-01 03:57:00</td>\n",
       "      <td>ECLGLX</td>\n",
       "      <td>other problem</td>\n",
       "      <td>4.0</td>\n",
       "      <td>DH4</td>\n",
       "      <td>0</td>\n",
       "      <td>0</td>\n",
       "      <td>Start</td>\n",
       "      <td>['Cory Cooper_nan_nan_nan_ca', 'Morgan Foster_...</td>\n",
       "      <td>[]</td>\n",
       "      <td>185.0</td>\n",
       "      <td>196.0</td>\n",
       "      <td>NaN</td>\n",
       "      <td>NaN</td>\n",
       "      <td>NaN</td>\n",
       "      <td>NaN</td>\n",
       "      <td>NaN</td>\n",
       "      <td>NaN</td>\n",
       "      <td>NaN</td>\n",
       "      <td>NaN</td>\n",
       "      <td>NaN</td>\n",
       "      <td>NaN</td>\n",
       "      <td>NaN</td>\n",
       "      <td>NaN</td>\n",
       "      <td>NaN</td>\n",
       "      <td>NaN</td>\n",
       "      <td>NaN</td>\n",
       "      <td>NaN</td>\n",
       "      <td>NaN</td>\n",
       "    </tr>\n",
       "  </tbody>\n",
       "</table>\n",
       "</div>"
      ],
      "text/plain": [
       "      leg_no            fn_carrier fn_number   dep_ap_sched arr_ap_sched  \\\n",
       "0  272005011  East Carmen Airlines    EC3098  North Gregory  East Carmen   \n",
       "1  272009188  East Carmen Airlines    EC3146     Port Bobby  East Carmen   \n",
       "2  271984537  East Carmen Airlines    EC2840      Port Ryan  East Carmen   \n",
       "\n",
       "  dep_sched_date dep_sched_time arr_sched_date arr_sched_time  \\\n",
       "0     2019-06-01          00:40     2019-06-01          04:30   \n",
       "1     2019-06-01          02:05     2019-06-01          04:00   \n",
       "2     2019-06-01          02:20     2019-06-01          03:50   \n",
       "\n",
       "          m_offblockdt          m_onblockdt ac_registration_x  \\\n",
       "0  2019-06-01 00:43:00  2019-06-01 04:12:00            ECLBSX   \n",
       "1  2019-06-01 01:58:00  2019-06-01 03:40:00            ECLWHX   \n",
       "2  2019-06-01 02:24:00  2019-06-01 03:57:00            ECLGLX   \n",
       "\n",
       "  change_reason_code  dep_delay Ac Type Code  trans_time  sched_trans_time  \\\n",
       "0      other problem        3.0          320           0                 0   \n",
       "1          no reason       -7.0          E95           0                 0   \n",
       "2      other problem        4.0          DH4           0                 0   \n",
       "\n",
       "  Crew Group                                          TLC_trans  \\\n",
       "0      Start  ['Jason Brown_nan_nan_nan_cp', 'Jacob Stein_na...   \n",
       "1      Start  ['Scott Baker_nan_nan_nan_cp', 'Ruth Hoffman_n...   \n",
       "2      Start  ['Cory Cooper_nan_nan_nan_ca', 'Morgan Foster_...   \n",
       "\n",
       "  crew_type_change  Sched Groundtime  Act Groundtime day_of_origin ac_type  \\\n",
       "0               []             235.0           268.0           NaN     NaN   \n",
       "1               []             130.0           189.0           NaN     NaN   \n",
       "2               []             185.0           196.0           NaN     NaN   \n",
       "\n",
       "  ac_registration_y  mingt dep_leg_inbound arr_leg_inbound arr_leg_outbound  \\\n",
       "0               NaN    NaN             NaN             NaN              NaN   \n",
       "1               NaN    NaN             NaN             NaN              NaN   \n",
       "2               NaN    NaN             NaN             NaN              NaN   \n",
       "\n",
       "  sched_inbound_dep sched_inbound_arr sched_outbound_dep sched_outbound_arr  \\\n",
       "0               NaN               NaN                NaN                NaN   \n",
       "1               NaN               NaN                NaN                NaN   \n",
       "2               NaN               NaN                NaN                NaN   \n",
       "\n",
       "   sched_turnaround  leg_inbound  leg_outbound  catering_duration  \\\n",
       "0               NaN          NaN           NaN                NaN   \n",
       "1               NaN          NaN           NaN                NaN   \n",
       "2               NaN          NaN           NaN                NaN   \n",
       "\n",
       "   cleaning_duration  pax_boarding_duration  \n",
       "0                NaN                    NaN  \n",
       "1                NaN                    NaN  \n",
       "2                NaN                    NaN  "
      ]
     },
     "metadata": {},
     "output_type": "display_data"
    }
   ],
   "source": [
    "df = pd.merge(df_flight, df_ground, left_on = ['fn_number', 'dep_sched_date'], right_on = ['fn_number','day_of_origin'], how = 'left')\n",
    "display(df.head(3))"
   ]
  }
 ],
 "metadata": {
  "hide_input": false,
  "kernelspec": {
   "display_name": "Python 3",
   "language": "python",
   "name": "python3"
  },
  "language_info": {
   "codemirror_mode": {
    "name": "ipython",
    "version": 3
   },
   "file_extension": ".py",
   "mimetype": "text/x-python",
   "name": "python",
   "nbconvert_exporter": "python",
   "pygments_lexer": "ipython3",
   "version": "3.7.1"
  },
  "toc": {
   "base_numbering": 1,
   "nav_menu": {},
   "number_sections": true,
   "sideBar": true,
   "skip_h1_title": false,
   "title_cell": "Table of Contents",
   "title_sidebar": "Contents",
   "toc_cell": false,
   "toc_position": {},
   "toc_section_display": true,
   "toc_window_display": false
  }
 },
 "nbformat": 4,
 "nbformat_minor": 4
}
