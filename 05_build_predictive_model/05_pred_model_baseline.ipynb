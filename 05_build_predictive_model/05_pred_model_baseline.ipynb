{
 "cells": [
  {
   "cell_type": "markdown",
   "metadata": {},
   "source": [
    "# Problem Description\n",
    "\n",
    "**under construction**"
   ]
  },
  {
   "cell_type": "markdown",
   "metadata": {},
   "source": [
    "*Let us understand **how to create a baseline model** with the use of a time-series example.* \n",
    "\n",
    "*Suppose our company sells licences of a software product and we want to understand how many licences we will sell in the future. We can use time-series models like ARIMA as well as machine-learning approaches (see unit 3 of the course book) for that purpose.*\n",
    "\n",
    "*We should always compare our model approaches with simple, so-called baseline models. Perhaps we observe, that all our sophisticated model approaches do not show better performance than simple baseline approaches. Then we should cease our effort, go a step back and take a closer look at our explanatory variables (the features of the model).*"
   ]
  },
  {
   "cell_type": "markdown",
   "metadata": {},
   "source": [
    "# Preambel"
   ]
  },
  {
   "cell_type": "code",
   "execution_count": 1,
   "metadata": {
    "ExecuteTime": {
     "end_time": "2021-06-30T07:30:14.978933Z",
     "start_time": "2021-06-30T07:30:14.268832Z"
    }
   },
   "outputs": [],
   "source": [
    "# Common imports\n",
    "import numpy as np # numpy is THE toolbox for scientific computing with python\n",
    "import pandas as pd # pandas provides THE data structure and data analysis tools for data scientists \n",
    "import pickle # we have to import a pickle file\n",
    "import os \n",
    "from datetime import timedelta, date\n",
    "\n",
    "# maximum number of columns\n",
    "pd.set_option(\"display.max_rows\", 101)\n",
    "pd.set_option(\"display.max_columns\", 101)\n",
    "\n",
    "# To plot pretty figures\n",
    "%matplotlib inline\n",
    "import matplotlib as mpl\n",
    "import matplotlib.pyplot as plt\n",
    "mpl.rc('axes', labelsize=14)\n",
    "mpl.rc('xtick', labelsize=12)\n",
    "mpl.rc('ytick', labelsize=12)"
   ]
  },
  {
   "cell_type": "markdown",
   "metadata": {},
   "source": [
    "# Time-Series Data Creation"
   ]
  },
  {
   "cell_type": "code",
   "execution_count": 2,
   "metadata": {
    "ExecuteTime": {
     "end_time": "2021-06-30T07:30:16.639342Z",
     "start_time": "2021-06-30T07:30:16.632529Z"
    }
   },
   "outputs": [],
   "source": [
    "def daterange(date1, date2):\n",
    "    for n in range(int ((date2 - date1).days)+1):\n",
    "        yield date1 + timedelta(n)\n",
    "\n",
    "start_dt = date(2018, 1, 1)\n",
    "end_dt   = date(2020, 8, 9)\n",
    "\n",
    "date_vec = [];\n",
    "for dt in daterange(start_dt, end_dt):\n",
    "    date_vec.append(dt) \n",
    "    \n",
    "salesByDate = pd.DataFrame.from_dict({'date': date_vec, 'sales':np.nan})"
   ]
  },
  {
   "cell_type": "code",
   "execution_count": 3,
   "metadata": {
    "ExecuteTime": {
     "end_time": "2021-06-30T07:30:18.848317Z",
     "start_time": "2021-06-30T07:30:18.833281Z"
    }
   },
   "outputs": [],
   "source": [
    "salesByDate.date = pd.to_datetime(salesByDate.date)\n",
    "\n",
    "salesByDate['weekday']  = salesByDate['date'].dt.weekday\n",
    "salesByDate['monthday'] = salesByDate['date'].dt.day\n",
    "salesByDate['month'] = salesByDate['date'].dt.month\n",
    "salesByDate['year']  = salesByDate['date'].dt.year"
   ]
  },
  {
   "cell_type": "code",
   "execution_count": 4,
   "metadata": {
    "ExecuteTime": {
     "end_time": "2021-06-30T07:30:22.756528Z",
     "start_time": "2021-06-30T07:30:22.728534Z"
    }
   },
   "outputs": [],
   "source": [
    "np.random.seed(42)\n",
    "basic_sales = 500;\n",
    "salesByDate['sales'] = np.ceil(np.cos((salesByDate['weekday']-1)/6) * basic_sales + 0.3*(salesByDate['year']-2018+1)*basic_sales - (salesByDate['month']-7) + np.random.randint(100,1000, salesByDate.shape[0]))"
   ]
  },
  {
   "cell_type": "code",
   "execution_count": 5,
   "metadata": {
    "ExecuteTime": {
     "end_time": "2021-06-30T07:30:29.703926Z",
     "start_time": "2021-06-30T07:30:29.686928Z"
    }
   },
   "outputs": [
    {
     "data": {
      "text/html": [
       "<div>\n",
       "<style scoped>\n",
       "    .dataframe tbody tr th:only-of-type {\n",
       "        vertical-align: middle;\n",
       "    }\n",
       "\n",
       "    .dataframe tbody tr th {\n",
       "        vertical-align: top;\n",
       "    }\n",
       "\n",
       "    .dataframe thead th {\n",
       "        text-align: right;\n",
       "    }\n",
       "</style>\n",
       "<table border=\"1\" class=\"dataframe\">\n",
       "  <thead>\n",
       "    <tr style=\"text-align: right;\">\n",
       "      <th></th>\n",
       "      <th>date</th>\n",
       "      <th>sales</th>\n",
       "      <th>weekday</th>\n",
       "      <th>monthday</th>\n",
       "      <th>month</th>\n",
       "      <th>year</th>\n",
       "    </tr>\n",
       "  </thead>\n",
       "  <tbody>\n",
       "    <tr>\n",
       "      <th>0</th>\n",
       "      <td>2018-01-01</td>\n",
       "      <td>852.0</td>\n",
       "      <td>0</td>\n",
       "      <td>1</td>\n",
       "      <td>1</td>\n",
       "      <td>2018</td>\n",
       "    </tr>\n",
       "    <tr>\n",
       "      <th>1</th>\n",
       "      <td>2018-01-02</td>\n",
       "      <td>1191.0</td>\n",
       "      <td>1</td>\n",
       "      <td>2</td>\n",
       "      <td>1</td>\n",
       "      <td>2018</td>\n",
       "    </tr>\n",
       "    <tr>\n",
       "      <th>2</th>\n",
       "      <td>2018-01-03</td>\n",
       "      <td>1610.0</td>\n",
       "      <td>2</td>\n",
       "      <td>3</td>\n",
       "      <td>1</td>\n",
       "      <td>2018</td>\n",
       "    </tr>\n",
       "    <tr>\n",
       "      <th>3</th>\n",
       "      <td>2018-01-04</td>\n",
       "      <td>999.0</td>\n",
       "      <td>3</td>\n",
       "      <td>4</td>\n",
       "      <td>1</td>\n",
       "      <td>2018</td>\n",
       "    </tr>\n",
       "    <tr>\n",
       "      <th>4</th>\n",
       "      <td>2018-01-05</td>\n",
       "      <td>801.0</td>\n",
       "      <td>4</td>\n",
       "      <td>5</td>\n",
       "      <td>1</td>\n",
       "      <td>2018</td>\n",
       "    </tr>\n",
       "    <tr>\n",
       "      <th>5</th>\n",
       "      <td>2018-01-06</td>\n",
       "      <td>720.0</td>\n",
       "      <td>5</td>\n",
       "      <td>6</td>\n",
       "      <td>1</td>\n",
       "      <td>2018</td>\n",
       "    </tr>\n",
       "    <tr>\n",
       "      <th>6</th>\n",
       "      <td>2018-01-07</td>\n",
       "      <td>1293.0</td>\n",
       "      <td>6</td>\n",
       "      <td>7</td>\n",
       "      <td>1</td>\n",
       "      <td>2018</td>\n",
       "    </tr>\n",
       "    <tr>\n",
       "      <th>7</th>\n",
       "      <td>2018-01-08</td>\n",
       "      <td>770.0</td>\n",
       "      <td>0</td>\n",
       "      <td>8</td>\n",
       "      <td>1</td>\n",
       "      <td>2018</td>\n",
       "    </tr>\n",
       "    <tr>\n",
       "      <th>8</th>\n",
       "      <td>2018-01-09</td>\n",
       "      <td>1370.0</td>\n",
       "      <td>1</td>\n",
       "      <td>9</td>\n",
       "      <td>1</td>\n",
       "      <td>2018</td>\n",
       "    </tr>\n",
       "    <tr>\n",
       "      <th>9</th>\n",
       "      <td>2018-01-10</td>\n",
       "      <td>871.0</td>\n",
       "      <td>2</td>\n",
       "      <td>10</td>\n",
       "      <td>1</td>\n",
       "      <td>2018</td>\n",
       "    </tr>\n",
       "  </tbody>\n",
       "</table>\n",
       "</div>"
      ],
      "text/plain": [
       "        date   sales  weekday  monthday  month  year\n",
       "0 2018-01-01   852.0        0         1      1  2018\n",
       "1 2018-01-02  1191.0        1         2      1  2018\n",
       "2 2018-01-03  1610.0        2         3      1  2018\n",
       "3 2018-01-04   999.0        3         4      1  2018\n",
       "4 2018-01-05   801.0        4         5      1  2018\n",
       "5 2018-01-06   720.0        5         6      1  2018\n",
       "6 2018-01-07  1293.0        6         7      1  2018\n",
       "7 2018-01-08   770.0        0         8      1  2018\n",
       "8 2018-01-09  1370.0        1         9      1  2018\n",
       "9 2018-01-10   871.0        2        10      1  2018"
      ]
     },
     "execution_count": 5,
     "metadata": {},
     "output_type": "execute_result"
    }
   ],
   "source": [
    "salesByDate.head(10)"
   ]
  },
  {
   "cell_type": "markdown",
   "metadata": {},
   "source": [
    "# Time-Series Plots"
   ]
  },
  {
   "cell_type": "markdown",
   "metadata": {},
   "source": [
    "Here is how the number of daily sales looks like"
   ]
  },
  {
   "cell_type": "code",
   "execution_count": 6,
   "metadata": {
    "ExecuteTime": {
     "end_time": "2021-06-30T07:30:33.235891Z",
     "start_time": "2021-06-30T07:30:32.564893Z"
    }
   },
   "outputs": [
    {
     "data": {
      "image/png": "[encoded data removed]",
      "text/plain": [
       "<Figure size 432x288 with 1 Axes>"
      ]
     },
     "metadata": {
      "needs_background": "light"
     },
     "output_type": "display_data"
    }
   ],
   "source": [
    "import seaborn as sns\n",
    "ax = sns.lineplot(x = \"date\", y = \"sales\", data=salesByDate)"
   ]
  },
  {
   "cell_type": "markdown",
   "metadata": {},
   "source": [
    "Here the dependence on feature variables is shown:"
   ]
  },
  {
   "cell_type": "code",
   "execution_count": 7,
   "metadata": {
    "ExecuteTime": {
     "end_time": "2021-06-30T07:30:36.380897Z",
     "start_time": "2021-06-30T07:30:34.805895Z"
    }
   },
   "outputs": [
    {
     "data": {
      "image/png": "[encoded data removed]",
      "text/plain": [
       "<Figure size 792x648 with 4 Axes>"
      ]
     },
     "metadata": {
      "needs_background": "light"
     },
     "output_type": "display_data"
    }
   ],
   "source": [
    "plt.figure(figsize=(11, 9))\n",
    "\n",
    "i = 0\n",
    "for col in salesByDate.columns[2:]:\n",
    "    i+=1\n",
    "    plt.subplot(2, 2, i)\n",
    "    ax = sns.lineplot(x=col, y=\"sales\", marker='o', data=salesByDate)\n",
    "plt.show()\n",
    "#ax = sns.lineplot(x=\"month\", y=\"sales\", data=salesByDate)"
   ]
  },
  {
   "cell_type": "markdown",
   "metadata": {},
   "source": [
    "# Benchmark Models"
   ]
  },
  {
   "cell_type": "markdown",
   "metadata": {},
   "source": [
    "After setting up the artificial dataset, there is now room for creativity. \n",
    "\n",
    "Which simple models (baseline models) can we create before starting with real modeling?"
   ]
  },
  {
   "cell_type": "markdown",
   "metadata": {},
   "source": [
    "## Overall Mean Value"
   ]
  },
  {
   "cell_type": "markdown",
   "metadata": {},
   "source": [
    "The simplest benchmark model is always to predict the mean/median for future days:"
   ]
  },
  {
   "cell_type": "code",
   "execution_count": 8,
   "metadata": {
    "ExecuteTime": {
     "end_time": "2021-06-30T07:30:40.190415Z",
     "start_time": "2021-06-30T07:30:40.186414Z"
    }
   },
   "outputs": [],
   "source": [
    "salesByDate['benchmark_mean'] = salesByDate['sales'].mean()"
   ]
  },
  {
   "cell_type": "markdown",
   "metadata": {},
   "source": [
    "## Mean by month"
   ]
  },
  {
   "cell_type": "code",
   "execution_count": 9,
   "metadata": {
    "ExecuteTime": {
     "end_time": "2021-06-30T07:30:41.555583Z",
     "start_time": "2021-06-30T07:30:41.518537Z"
    }
   },
   "outputs": [
    {
     "data": {
      "text/html": [
       "<div>\n",
       "<style scoped>\n",
       "    .dataframe tbody tr th:only-of-type {\n",
       "        vertical-align: middle;\n",
       "    }\n",
       "\n",
       "    .dataframe tbody tr th {\n",
       "        vertical-align: top;\n",
       "    }\n",
       "\n",
       "    .dataframe thead th {\n",
       "        text-align: right;\n",
       "    }\n",
       "</style>\n",
       "<table border=\"1\" class=\"dataframe\">\n",
       "  <thead>\n",
       "    <tr style=\"text-align: right;\">\n",
       "      <th></th>\n",
       "      <th>month</th>\n",
       "      <th>benchmark_mean_month</th>\n",
       "    </tr>\n",
       "  </thead>\n",
       "  <tbody>\n",
       "    <tr>\n",
       "      <th>0</th>\n",
       "      <td>1</td>\n",
       "      <td>1277.0</td>\n",
       "    </tr>\n",
       "    <tr>\n",
       "      <th>1</th>\n",
       "      <td>2</td>\n",
       "      <td>1307.0</td>\n",
       "    </tr>\n",
       "    <tr>\n",
       "      <th>2</th>\n",
       "      <td>3</td>\n",
       "      <td>1243.0</td>\n",
       "    </tr>\n",
       "  </tbody>\n",
       "</table>\n",
       "</div>"
      ],
      "text/plain": [
       "   month  benchmark_mean_month\n",
       "0      1                1277.0\n",
       "1      2                1307.0\n",
       "2      3                1243.0"
      ]
     },
     "metadata": {},
     "output_type": "display_data"
    },
    {
     "data": {
      "text/html": [
       "<div>\n",
       "<style scoped>\n",
       "    .dataframe tbody tr th:only-of-type {\n",
       "        vertical-align: middle;\n",
       "    }\n",
       "\n",
       "    .dataframe tbody tr th {\n",
       "        vertical-align: top;\n",
       "    }\n",
       "\n",
       "    .dataframe thead th {\n",
       "        text-align: right;\n",
       "    }\n",
       "</style>\n",
       "<table border=\"1\" class=\"dataframe\">\n",
       "  <thead>\n",
       "    <tr style=\"text-align: right;\">\n",
       "      <th></th>\n",
       "      <th>month</th>\n",
       "      <th>benchmark_mean_month</th>\n",
       "      <th>date</th>\n",
       "      <th>sales</th>\n",
       "      <th>weekday</th>\n",
       "      <th>monthday</th>\n",
       "      <th>year</th>\n",
       "      <th>benchmark_mean</th>\n",
       "    </tr>\n",
       "  </thead>\n",
       "  <tbody>\n",
       "    <tr>\n",
       "      <th>0</th>\n",
       "      <td>1</td>\n",
       "      <td>1277.0</td>\n",
       "      <td>2018-01-01</td>\n",
       "      <td>852.0</td>\n",
       "      <td>0</td>\n",
       "      <td>1</td>\n",
       "      <td>2018</td>\n",
       "      <td>1283.37605</td>\n",
       "    </tr>\n",
       "    <tr>\n",
       "      <th>1</th>\n",
       "      <td>1</td>\n",
       "      <td>1277.0</td>\n",
       "      <td>2018-01-02</td>\n",
       "      <td>1191.0</td>\n",
       "      <td>1</td>\n",
       "      <td>2</td>\n",
       "      <td>2018</td>\n",
       "      <td>1283.37605</td>\n",
       "    </tr>\n",
       "    <tr>\n",
       "      <th>2</th>\n",
       "      <td>1</td>\n",
       "      <td>1277.0</td>\n",
       "      <td>2018-01-03</td>\n",
       "      <td>1610.0</td>\n",
       "      <td>2</td>\n",
       "      <td>3</td>\n",
       "      <td>2018</td>\n",
       "      <td>1283.37605</td>\n",
       "    </tr>\n",
       "    <tr>\n",
       "      <th>3</th>\n",
       "      <td>1</td>\n",
       "      <td>1277.0</td>\n",
       "      <td>2018-01-04</td>\n",
       "      <td>999.0</td>\n",
       "      <td>3</td>\n",
       "      <td>4</td>\n",
       "      <td>2018</td>\n",
       "      <td>1283.37605</td>\n",
       "    </tr>\n",
       "    <tr>\n",
       "      <th>4</th>\n",
       "      <td>1</td>\n",
       "      <td>1277.0</td>\n",
       "      <td>2018-01-05</td>\n",
       "      <td>801.0</td>\n",
       "      <td>4</td>\n",
       "      <td>5</td>\n",
       "      <td>2018</td>\n",
       "      <td>1283.37605</td>\n",
       "    </tr>\n",
       "    <tr>\n",
       "      <th>...</th>\n",
       "      <td>...</td>\n",
       "      <td>...</td>\n",
       "      <td>...</td>\n",
       "      <td>...</td>\n",
       "      <td>...</td>\n",
       "      <td>...</td>\n",
       "      <td>...</td>\n",
       "      <td>...</td>\n",
       "    </tr>\n",
       "    <tr>\n",
       "      <th>947</th>\n",
       "      <td>12</td>\n",
       "      <td>1195.0</td>\n",
       "      <td>2019-12-27</td>\n",
       "      <td>1339.0</td>\n",
       "      <td>4</td>\n",
       "      <td>27</td>\n",
       "      <td>2019</td>\n",
       "      <td>1283.37605</td>\n",
       "    </tr>\n",
       "    <tr>\n",
       "      <th>948</th>\n",
       "      <td>12</td>\n",
       "      <td>1195.0</td>\n",
       "      <td>2019-12-28</td>\n",
       "      <td>1154.0</td>\n",
       "      <td>5</td>\n",
       "      <td>28</td>\n",
       "      <td>2019</td>\n",
       "      <td>1283.37605</td>\n",
       "    </tr>\n",
       "    <tr>\n",
       "      <th>949</th>\n",
       "      <td>12</td>\n",
       "      <td>1195.0</td>\n",
       "      <td>2019-12-29</td>\n",
       "      <td>875.0</td>\n",
       "      <td>6</td>\n",
       "      <td>29</td>\n",
       "      <td>2019</td>\n",
       "      <td>1283.37605</td>\n",
       "    </tr>\n",
       "    <tr>\n",
       "      <th>950</th>\n",
       "      <td>12</td>\n",
       "      <td>1195.0</td>\n",
       "      <td>2019-12-30</td>\n",
       "      <td>1773.0</td>\n",
       "      <td>0</td>\n",
       "      <td>30</td>\n",
       "      <td>2019</td>\n",
       "      <td>1283.37605</td>\n",
       "    </tr>\n",
       "    <tr>\n",
       "      <th>951</th>\n",
       "      <td>12</td>\n",
       "      <td>1195.0</td>\n",
       "      <td>2019-12-31</td>\n",
       "      <td>963.0</td>\n",
       "      <td>1</td>\n",
       "      <td>31</td>\n",
       "      <td>2019</td>\n",
       "      <td>1283.37605</td>\n",
       "    </tr>\n",
       "  </tbody>\n",
       "</table>\n",
       "<p>952 rows × 8 columns</p>\n",
       "</div>"
      ],
      "text/plain": [
       "     month  benchmark_mean_month       date   sales  weekday  monthday  year  \\\n",
       "0        1                1277.0 2018-01-01   852.0        0         1  2018   \n",
       "1        1                1277.0 2018-01-02  1191.0        1         2  2018   \n",
       "2        1                1277.0 2018-01-03  1610.0        2         3  2018   \n",
       "3        1                1277.0 2018-01-04   999.0        3         4  2018   \n",
       "4        1                1277.0 2018-01-05   801.0        4         5  2018   \n",
       "..     ...                   ...        ...     ...      ...       ...   ...   \n",
       "947     12                1195.0 2019-12-27  1339.0        4        27  2019   \n",
       "948     12                1195.0 2019-12-28  1154.0        5        28  2019   \n",
       "949     12                1195.0 2019-12-29   875.0        6        29  2019   \n",
       "950     12                1195.0 2019-12-30  1773.0        0        30  2019   \n",
       "951     12                1195.0 2019-12-31   963.0        1        31  2019   \n",
       "\n",
       "     benchmark_mean  \n",
       "0        1283.37605  \n",
       "1        1283.37605  \n",
       "2        1283.37605  \n",
       "3        1283.37605  \n",
       "4        1283.37605  \n",
       "..              ...  \n",
       "947      1283.37605  \n",
       "948      1283.37605  \n",
       "949      1283.37605  \n",
       "950      1283.37605  \n",
       "951      1283.37605  \n",
       "\n",
       "[952 rows x 8 columns]"
      ]
     },
     "execution_count": 9,
     "metadata": {},
     "output_type": "execute_result"
    }
   ],
   "source": [
    "calc = np.ceil(salesByDate.groupby('month')['sales'].mean()).to_frame('benchmark_mean_month').reset_index()\n",
    "display(calc.head(3))\n",
    "\n",
    "salesByDate = pd.merge(calc, salesByDate, on = 'month')\n",
    "salesByDate"
   ]
  },
  {
   "cell_type": "markdown",
   "metadata": {},
   "source": [
    "Now mean value by week, weekday...could be applied as well."
   ]
  },
  {
   "cell_type": "markdown",
   "metadata": {
    "ExecuteTime": {
     "end_time": "2020-08-09T05:39:16.868175Z",
     "start_time": "2020-08-09T05:39:16.855221Z"
    }
   },
   "source": [
    "## Rolling Mean of Last Week"
   ]
  },
  {
   "cell_type": "code",
   "execution_count": 10,
   "metadata": {
    "ExecuteTime": {
     "end_time": "2021-06-30T07:30:45.718740Z",
     "start_time": "2021-06-30T07:30:45.713737Z"
    }
   },
   "outputs": [],
   "source": [
    "salesByDate[\"benchmark_MA_roll_8\"] = salesByDate['sales'].rolling(window=8).mean()"
   ]
  },
  {
   "cell_type": "code",
   "execution_count": 11,
   "metadata": {
    "ExecuteTime": {
     "end_time": "2021-06-30T07:30:47.062708Z",
     "start_time": "2021-06-30T07:30:47.049742Z"
    }
   },
   "outputs": [
    {
     "data": {
      "text/html": [
       "<div>\n",
       "<style scoped>\n",
       "    .dataframe tbody tr th:only-of-type {\n",
       "        vertical-align: middle;\n",
       "    }\n",
       "\n",
       "    .dataframe tbody tr th {\n",
       "        vertical-align: top;\n",
       "    }\n",
       "\n",
       "    .dataframe thead th {\n",
       "        text-align: right;\n",
       "    }\n",
       "</style>\n",
       "<table border=\"1\" class=\"dataframe\">\n",
       "  <thead>\n",
       "    <tr style=\"text-align: right;\">\n",
       "      <th></th>\n",
       "      <th>month</th>\n",
       "      <th>benchmark_mean_month</th>\n",
       "      <th>date</th>\n",
       "      <th>sales</th>\n",
       "      <th>weekday</th>\n",
       "      <th>monthday</th>\n",
       "      <th>year</th>\n",
       "      <th>benchmark_mean</th>\n",
       "      <th>benchmark_MA_roll_8</th>\n",
       "    </tr>\n",
       "  </thead>\n",
       "  <tbody>\n",
       "    <tr>\n",
       "      <th>0</th>\n",
       "      <td>1</td>\n",
       "      <td>1277.0</td>\n",
       "      <td>2018-01-01</td>\n",
       "      <td>852.0</td>\n",
       "      <td>0</td>\n",
       "      <td>1</td>\n",
       "      <td>2018</td>\n",
       "      <td>1283.37605</td>\n",
       "      <td>NaN</td>\n",
       "    </tr>\n",
       "    <tr>\n",
       "      <th>1</th>\n",
       "      <td>1</td>\n",
       "      <td>1277.0</td>\n",
       "      <td>2018-01-02</td>\n",
       "      <td>1191.0</td>\n",
       "      <td>1</td>\n",
       "      <td>2</td>\n",
       "      <td>2018</td>\n",
       "      <td>1283.37605</td>\n",
       "      <td>NaN</td>\n",
       "    </tr>\n",
       "    <tr>\n",
       "      <th>2</th>\n",
       "      <td>1</td>\n",
       "      <td>1277.0</td>\n",
       "      <td>2018-01-03</td>\n",
       "      <td>1610.0</td>\n",
       "      <td>2</td>\n",
       "      <td>3</td>\n",
       "      <td>2018</td>\n",
       "      <td>1283.37605</td>\n",
       "      <td>NaN</td>\n",
       "    </tr>\n",
       "    <tr>\n",
       "      <th>3</th>\n",
       "      <td>1</td>\n",
       "      <td>1277.0</td>\n",
       "      <td>2018-01-04</td>\n",
       "      <td>999.0</td>\n",
       "      <td>3</td>\n",
       "      <td>4</td>\n",
       "      <td>2018</td>\n",
       "      <td>1283.37605</td>\n",
       "      <td>NaN</td>\n",
       "    </tr>\n",
       "    <tr>\n",
       "      <th>4</th>\n",
       "      <td>1</td>\n",
       "      <td>1277.0</td>\n",
       "      <td>2018-01-05</td>\n",
       "      <td>801.0</td>\n",
       "      <td>4</td>\n",
       "      <td>5</td>\n",
       "      <td>2018</td>\n",
       "      <td>1283.37605</td>\n",
       "      <td>NaN</td>\n",
       "    </tr>\n",
       "    <tr>\n",
       "      <th>5</th>\n",
       "      <td>1</td>\n",
       "      <td>1277.0</td>\n",
       "      <td>2018-01-06</td>\n",
       "      <td>720.0</td>\n",
       "      <td>5</td>\n",
       "      <td>6</td>\n",
       "      <td>2018</td>\n",
       "      <td>1283.37605</td>\n",
       "      <td>NaN</td>\n",
       "    </tr>\n",
       "    <tr>\n",
       "      <th>6</th>\n",
       "      <td>1</td>\n",
       "      <td>1277.0</td>\n",
       "      <td>2018-01-07</td>\n",
       "      <td>1293.0</td>\n",
       "      <td>6</td>\n",
       "      <td>7</td>\n",
       "      <td>2018</td>\n",
       "      <td>1283.37605</td>\n",
       "      <td>NaN</td>\n",
       "    </tr>\n",
       "    <tr>\n",
       "      <th>7</th>\n",
       "      <td>1</td>\n",
       "      <td>1277.0</td>\n",
       "      <td>2018-01-08</td>\n",
       "      <td>770.0</td>\n",
       "      <td>0</td>\n",
       "      <td>8</td>\n",
       "      <td>2018</td>\n",
       "      <td>1283.37605</td>\n",
       "      <td>1029.5</td>\n",
       "    </tr>\n",
       "  </tbody>\n",
       "</table>\n",
       "</div>"
      ],
      "text/plain": [
       "   month  benchmark_mean_month       date   sales  weekday  monthday  year  \\\n",
       "0      1                1277.0 2018-01-01   852.0        0         1  2018   \n",
       "1      1                1277.0 2018-01-02  1191.0        1         2  2018   \n",
       "2      1                1277.0 2018-01-03  1610.0        2         3  2018   \n",
       "3      1                1277.0 2018-01-04   999.0        3         4  2018   \n",
       "4      1                1277.0 2018-01-05   801.0        4         5  2018   \n",
       "5      1                1277.0 2018-01-06   720.0        5         6  2018   \n",
       "6      1                1277.0 2018-01-07  1293.0        6         7  2018   \n",
       "7      1                1277.0 2018-01-08   770.0        0         8  2018   \n",
       "\n",
       "   benchmark_mean  benchmark_MA_roll_8  \n",
       "0      1283.37605                  NaN  \n",
       "1      1283.37605                  NaN  \n",
       "2      1283.37605                  NaN  \n",
       "3      1283.37605                  NaN  \n",
       "4      1283.37605                  NaN  \n",
       "5      1283.37605                  NaN  \n",
       "6      1283.37605                  NaN  \n",
       "7      1283.37605               1029.5  "
      ]
     },
     "execution_count": 11,
     "metadata": {},
     "output_type": "execute_result"
    }
   ],
   "source": [
    "salesByDate.head(8)"
   ]
  },
  {
   "cell_type": "markdown",
   "metadata": {},
   "source": [
    "## Comparing the benchmark models"
   ]
  },
  {
   "cell_type": "code",
   "execution_count": 12,
   "metadata": {
    "ExecuteTime": {
     "end_time": "2021-06-30T07:30:49.297899Z",
     "start_time": "2021-06-30T07:30:49.293901Z"
    }
   },
   "outputs": [],
   "source": [
    "def rms_error(true, pred):\n",
    "    diff=(true-pred).dropna()\n",
    "    return np.sqrt((diff**2).mean())"
   ]
  },
  {
   "cell_type": "code",
   "execution_count": 13,
   "metadata": {
    "ExecuteTime": {
     "end_time": "2021-06-30T07:30:51.207175Z",
     "start_time": "2021-06-30T07:30:51.198176Z"
    }
   },
   "outputs": [
    {
     "name": "stdout",
     "output_type": "stream",
     "text": [
      "BENCHMARK benchmark_mean : 290.32276911526213\n",
      "BENCHMARK benchmark_mean_month : 286.12580421964066\n",
      "BENCHMARK benchmark_MA_roll_8 : 253.0701491945658\n"
     ]
    }
   ],
   "source": [
    "for col in ['benchmark_mean', 'benchmark_mean_month', 'benchmark_MA_roll_8']:\n",
    "    print('BENCHMARK {} : {}'.format(col, rms_error(salesByDate['sales'], salesByDate[col])))"
   ]
  },
  {
   "cell_type": "markdown",
   "metadata": {},
   "source": [
    "Here we observe that the rolling mean benchmark model gives the best result, i.e. the error on the daily number of sales is around 250 licenses.\n",
    "\n",
    "Now a more sophisticated model has to outperform these benchmark models. "
   ]
  },
  {
   "cell_type": "markdown",
   "metadata": {},
   "source": [
    "# Predictive Models"
   ]
  },
  {
   "cell_type": "markdown",
   "metadata": {},
   "source": [
    "Here you can start with modeling the time-series data in order to outperform the simple benchmarks!"
   ]
  }
 ],
 "metadata": {
  "hide_input": false,
  "kernelspec": {
   "display_name": "Python 3",
   "language": "python",
   "name": "python3"
  },
  "language_info": {
   "codemirror_mode": {
    "name": "ipython",
    "version": 3
   },
   "file_extension": ".py",
   "mimetype": "text/x-python",
   "name": "python",
   "nbconvert_exporter": "python",
   "pygments_lexer": "ipython3",
   "version": "3.7.1"
  },
  "toc": {
   "base_numbering": 1,
   "nav_menu": {},
   "number_sections": true,
   "sideBar": true,
   "skip_h1_title": false,
   "title_cell": "Table of Contents",
   "title_sidebar": "Contents",
   "toc_cell": false,
   "toc_position": {},
   "toc_section_display": true,
   "toc_window_display": true
  }
 },
 "nbformat": 4,
 "nbformat_minor": 4
}
