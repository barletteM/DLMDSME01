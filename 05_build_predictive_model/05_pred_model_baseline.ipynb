{
 "cells": [
  {
   "cell_type": "markdown",
   "metadata": {},
   "source": [
    "# Problem Description\n",
    "\n",
    "**under construction**"
   ]
  },
  {
   "cell_type": "markdown",
   "metadata": {},
   "source": [
    "*Let us understand **how to create a baseline model** with the use of a time-series example.* \n",
    "\n",
    "*Suppose our company sells licences of a software product and we want to understand how many licences we will sell in the future. We can use time-series models like ARIMA as well as machine-learning approaches (see unit 3 of the course book) for that purpose.*\n",
    "\n",
    "*We should always compare our model approaches with simple, so-called baseline models. Perhaps we observe, that all our sophisticated model approaches do not show better performance than simple baseline models. Then we should cease our effort, go a step back and take a closer look at our explanatory variables, i.e., the features of our model.*"
   ]
  },
  {
   "cell_type": "markdown",
   "metadata": {},
   "source": [
    "# Preambel"
   ]
  },
  {
   "cell_type": "code",
   "execution_count": 1,
   "metadata": {
    "ExecuteTime": {
     "end_time": "2021-11-27T09:09:44.967184Z",
     "start_time": "2021-11-27T09:09:42.072948Z"
    }
   },
   "outputs": [],
   "source": [
    "# Common imports\n",
    "import numpy as np # numpy is THE toolbox for scientific computing with python\n",
    "import pandas as pd # pandas provides THE data structure and data analysis tools for data scientists \n",
    "import pickle # we have to import a pickle file\n",
    "import os \n",
    "from datetime import timedelta, date\n",
    "\n",
    "# maximum number of columns\n",
    "pd.set_option(\"display.max_rows\", 101)\n",
    "pd.set_option(\"display.max_columns\", 101)\n",
    "\n",
    "# To plot pretty figures\n",
    "%matplotlib inline\n",
    "import matplotlib as mpl\n",
    "import matplotlib.pyplot as plt\n",
    "mpl.rc('axes', labelsize=14)\n",
    "mpl.rc('xtick', labelsize=12)\n",
    "mpl.rc('ytick', labelsize=12)"
   ]
  },
  {
   "cell_type": "markdown",
   "metadata": {},
   "source": [
    "# Time-Series Data Creation"
   ]
  },
  {
   "cell_type": "markdown",
   "metadata": {},
   "source": [
    "*Let us create a dataset of how many software licences are sold.* "
   ]
  },
  {
   "cell_type": "code",
   "execution_count": 2,
   "metadata": {
    "ExecuteTime": {
     "end_time": "2021-11-27T09:11:08.942921Z",
     "start_time": "2021-11-27T09:11:08.929922Z"
    }
   },
   "outputs": [],
   "source": [
    "def daterange(date1, date2):\n",
    "    for n in range(int ((date2 - date1).days)+1):\n",
    "        yield date1 + timedelta(n)\n",
    "\n",
    "start_dt = date(2018, 1, 1)\n",
    "end_dt   = date(2022, 12, 31)\n",
    "\n",
    "date_vec = [];\n",
    "for dt in daterange(start_dt, end_dt):\n",
    "    date_vec.append(dt) \n",
    "    \n",
    "salesByDate = pd.DataFrame.from_dict({'date': date_vec, 'sales':np.nan})"
   ]
  },
  {
   "cell_type": "code",
   "execution_count": 3,
   "metadata": {
    "ExecuteTime": {
     "end_time": "2021-11-27T09:11:20.346394Z",
     "start_time": "2021-11-27T09:11:20.322398Z"
    }
   },
   "outputs": [],
   "source": [
    "salesByDate.date = pd.to_datetime(salesByDate.date)\n",
    "\n",
    "salesByDate['weekday']  = salesByDate['date'].dt.weekday\n",
    "salesByDate['monthday'] = salesByDate['date'].dt.day\n",
    "salesByDate['month']    = salesByDate['date'].dt.month\n",
    "salesByDate['year']     = salesByDate['date'].dt.year"
   ]
  },
  {
   "cell_type": "markdown",
   "metadata": {},
   "source": [
    "*Let us now assume the number of sold licences to be a function of weekday, year, month and some random noise.*"
   ]
  },
  {
   "cell_type": "code",
   "execution_count": 4,
   "metadata": {
    "ExecuteTime": {
     "end_time": "2021-11-27T09:12:34.411139Z",
     "start_time": "2021-11-27T09:12:33.569412Z"
    }
   },
   "outputs": [],
   "source": [
    "np.random.seed(42)\n",
    "basic_sales = 500;\n",
    "salesByDate['sales'] = np.ceil(np.cos((salesByDate['weekday']-1)/6) * basic_sales + 0.3*(salesByDate['year']-2018+1)*basic_sales - (salesByDate['month']-7) + np.random.randint(100,1000, salesByDate.shape[0]))"
   ]
  },
  {
   "cell_type": "markdown",
   "metadata": {},
   "source": [
    "*Let us now look at our dataset.*"
   ]
  },
  {
   "cell_type": "code",
   "execution_count": 5,
   "metadata": {
    "ExecuteTime": {
     "end_time": "2021-06-30T07:30:29.703926Z",
     "start_time": "2021-06-30T07:30:29.686928Z"
    }
   },
   "outputs": [
    {
     "data": {
      "text/html": [
       "<div>\n",
       "<style scoped>\n",
       "    .dataframe tbody tr th:only-of-type {\n",
       "        vertical-align: middle;\n",
       "    }\n",
       "\n",
       "    .dataframe tbody tr th {\n",
       "        vertical-align: top;\n",
       "    }\n",
       "\n",
       "    .dataframe thead th {\n",
       "        text-align: right;\n",
       "    }\n",
       "</style>\n",
       "<table border=\"1\" class=\"dataframe\">\n",
       "  <thead>\n",
       "    <tr style=\"text-align: right;\">\n",
       "      <th></th>\n",
       "      <th>date</th>\n",
       "      <th>sales</th>\n",
       "      <th>weekday</th>\n",
       "      <th>monthday</th>\n",
       "      <th>month</th>\n",
       "      <th>year</th>\n",
       "    </tr>\n",
       "  </thead>\n",
       "  <tbody>\n",
       "    <tr>\n",
       "      <th>0</th>\n",
       "      <td>2018-01-01</td>\n",
       "      <td>852.0</td>\n",
       "      <td>0</td>\n",
       "      <td>1</td>\n",
       "      <td>1</td>\n",
       "      <td>2018</td>\n",
       "    </tr>\n",
       "    <tr>\n",
       "      <th>1</th>\n",
       "      <td>2018-01-02</td>\n",
       "      <td>1191.0</td>\n",
       "      <td>1</td>\n",
       "      <td>2</td>\n",
       "      <td>1</td>\n",
       "      <td>2018</td>\n",
       "    </tr>\n",
       "    <tr>\n",
       "      <th>2</th>\n",
       "      <td>2018-01-03</td>\n",
       "      <td>1610.0</td>\n",
       "      <td>2</td>\n",
       "      <td>3</td>\n",
       "      <td>1</td>\n",
       "      <td>2018</td>\n",
       "    </tr>\n",
       "    <tr>\n",
       "      <th>3</th>\n",
       "      <td>2018-01-04</td>\n",
       "      <td>999.0</td>\n",
       "      <td>3</td>\n",
       "      <td>4</td>\n",
       "      <td>1</td>\n",
       "      <td>2018</td>\n",
       "    </tr>\n",
       "    <tr>\n",
       "      <th>4</th>\n",
       "      <td>2018-01-05</td>\n",
       "      <td>801.0</td>\n",
       "      <td>4</td>\n",
       "      <td>5</td>\n",
       "      <td>1</td>\n",
       "      <td>2018</td>\n",
       "    </tr>\n",
       "    <tr>\n",
       "      <th>5</th>\n",
       "      <td>2018-01-06</td>\n",
       "      <td>720.0</td>\n",
       "      <td>5</td>\n",
       "      <td>6</td>\n",
       "      <td>1</td>\n",
       "      <td>2018</td>\n",
       "    </tr>\n",
       "    <tr>\n",
       "      <th>6</th>\n",
       "      <td>2018-01-07</td>\n",
       "      <td>1293.0</td>\n",
       "      <td>6</td>\n",
       "      <td>7</td>\n",
       "      <td>1</td>\n",
       "      <td>2018</td>\n",
       "    </tr>\n",
       "    <tr>\n",
       "      <th>7</th>\n",
       "      <td>2018-01-08</td>\n",
       "      <td>770.0</td>\n",
       "      <td>0</td>\n",
       "      <td>8</td>\n",
       "      <td>1</td>\n",
       "      <td>2018</td>\n",
       "    </tr>\n",
       "    <tr>\n",
       "      <th>8</th>\n",
       "      <td>2018-01-09</td>\n",
       "      <td>1370.0</td>\n",
       "      <td>1</td>\n",
       "      <td>9</td>\n",
       "      <td>1</td>\n",
       "      <td>2018</td>\n",
       "    </tr>\n",
       "    <tr>\n",
       "      <th>9</th>\n",
       "      <td>2018-01-10</td>\n",
       "      <td>871.0</td>\n",
       "      <td>2</td>\n",
       "      <td>10</td>\n",
       "      <td>1</td>\n",
       "      <td>2018</td>\n",
       "    </tr>\n",
       "  </tbody>\n",
       "</table>\n",
       "</div>"
      ],
      "text/plain": [
       "        date   sales  weekday  monthday  month  year\n",
       "0 2018-01-01   852.0        0         1      1  2018\n",
       "1 2018-01-02  1191.0        1         2      1  2018\n",
       "2 2018-01-03  1610.0        2         3      1  2018\n",
       "3 2018-01-04   999.0        3         4      1  2018\n",
       "4 2018-01-05   801.0        4         5      1  2018\n",
       "5 2018-01-06   720.0        5         6      1  2018\n",
       "6 2018-01-07  1293.0        6         7      1  2018\n",
       "7 2018-01-08   770.0        0         8      1  2018\n",
       "8 2018-01-09  1370.0        1         9      1  2018\n",
       "9 2018-01-10   871.0        2        10      1  2018"
      ]
     },
     "execution_count": 5,
     "metadata": {},
     "output_type": "execute_result"
    }
   ],
   "source": [
    "salesByDate.head(10)"
   ]
  },
  {
   "cell_type": "markdown",
   "metadata": {},
   "source": [
    "# Time-Series Plots"
   ]
  },
  {
   "cell_type": "markdown",
   "metadata": {},
   "source": [
    "The number of daily sales as a function of day."
   ]
  },
  {
   "cell_type": "code",
   "execution_count": 9,
   "metadata": {
    "ExecuteTime": {
     "end_time": "2021-11-27T09:20:39.789975Z",
     "start_time": "2021-11-27T09:20:39.487977Z"
    }
   },
   "outputs": [
    {
     "data": {
      "image/png": "[encoded data removed]",
      "text/plain": [
       "<Figure size 1080x432 with 1 Axes>"
      ]
     },
     "metadata": {
      "needs_background": "light"
     },
     "output_type": "display_data"
    }
   ],
   "source": [
    "mask = (salesByDate.date >= '2018-01-01')\n",
    "title =  'Number of daily sales'\n",
    "fig, axs = plt.subplots(1,1,figsize=(15,6))\n",
    "sns.lineplot(data = salesByDate[mask], x = 'date', y = 'sales', marker='o', linestyle='', ci = None, label = 'true values')#ci = None)\n",
    "plt.title(title)\n",
    "plt.xlabel('sales date')\n",
    "plt.xticks(rotation=45)\n",
    "plt.ylabel('number of sales')\n",
    "plt.grid(True)\n",
    "plt.legend()\n",
    "plt.show()"
   ]
  },
  {
   "cell_type": "markdown",
   "metadata": {},
   "source": [
    "Here the dependence of daily sales on our feature variables is shown:"
   ]
  },
  {
   "cell_type": "code",
   "execution_count": 11,
   "metadata": {
    "ExecuteTime": {
     "end_time": "2021-11-27T09:21:00.736574Z",
     "start_time": "2021-11-27T09:20:58.312213Z"
    }
   },
   "outputs": [
    {
     "data": {
      "image/png": "[encoded data removed]",
      "text/plain": [
       "<Figure size 792x648 with 4 Axes>"
      ]
     },
     "metadata": {
      "needs_background": "light"
     },
     "output_type": "display_data"
    }
   ],
   "source": [
    "plt.figure(figsize=(11, 9))\n",
    "\n",
    "i = 0\n",
    "for col in salesByDate.columns[2:]:\n",
    "    i+=1\n",
    "    plt.subplot(2, 2, i)\n",
    "    ax = sns.lineplot(x=col, y=\"sales\", marker='o', data=salesByDate)\n",
    "plt.show()"
   ]
  },
  {
   "cell_type": "markdown",
   "metadata": {},
   "source": [
    "# Train-test Split"
   ]
  },
  {
   "cell_type": "markdown",
   "metadata": {},
   "source": [
    "In a first step we have to split the data into training and test set."
   ]
  },
  {
   "cell_type": "code",
   "execution_count": 29,
   "metadata": {
    "ExecuteTime": {
     "end_time": "2021-11-27T09:53:03.399563Z",
     "start_time": "2021-11-27T09:53:03.380567Z"
    }
   },
   "outputs": [
    {
     "name": "stdout",
     "output_type": "stream",
     "text": [
      "\n",
      "Train begin - end:  2018-01-01 00:00:00  -  2022-09-22T00:00:00.000000000\n",
      "Val begin - end:  2021-09-01  -  2021-11-26\n",
      "Test begin - end:  2021-11-27  -  2022-12-31 00:00:00\n",
      "\n"
     ]
    }
   ],
   "source": [
    "val_start  = '2021-09-01'\n",
    "val_end    = '2021-11-26'\n",
    "test_start = '2021-11-27'\n",
    "\n",
    "print()\n",
    "print('Train begin - end: ', salesByDate.date.min(), ' - ', train_end)\n",
    "print('Val begin - end: ', val_start, ' - ', val_end)\n",
    "print('Test begin - end: ', test_start, ' - ', max_date)\n",
    "print()\n",
    "\n",
    "# ================================================================\n",
    "mask_val    = (salesByDate.date >= val_start) & (salesByDate.date <= val_end) \n",
    "mask_test   = (salesByDate.date >= test_start) \n",
    "\n",
    "salesByDate_val  = salesByDate[mask_val]\n",
    "salesByDate_test = salesByDate[mask_test]\n",
    "salesByDate_train = salesByDate.drop(salesByDate_test.index).drop(salesByDate_val.index)"
   ]
  },
  {
   "cell_type": "code",
   "execution_count": 30,
   "metadata": {
    "ExecuteTime": {
     "end_time": "2021-11-27T09:53:05.476579Z",
     "start_time": "2021-11-27T09:53:05.458578Z"
    }
   },
   "outputs": [
    {
     "data": {
      "text/html": [
       "<div>\n",
       "<style scoped>\n",
       "    .dataframe tbody tr th:only-of-type {\n",
       "        vertical-align: middle;\n",
       "    }\n",
       "\n",
       "    .dataframe tbody tr th {\n",
       "        vertical-align: top;\n",
       "    }\n",
       "\n",
       "    .dataframe thead th {\n",
       "        text-align: right;\n",
       "    }\n",
       "</style>\n",
       "<table border=\"1\" class=\"dataframe\">\n",
       "  <thead>\n",
       "    <tr style=\"text-align: right;\">\n",
       "      <th></th>\n",
       "      <th>date</th>\n",
       "      <th>sales</th>\n",
       "      <th>weekday</th>\n",
       "      <th>monthday</th>\n",
       "      <th>month</th>\n",
       "      <th>year</th>\n",
       "    </tr>\n",
       "  </thead>\n",
       "  <tbody>\n",
       "    <tr>\n",
       "      <th>1426</th>\n",
       "      <td>2021-11-27</td>\n",
       "      <td>1814.0</td>\n",
       "      <td>5</td>\n",
       "      <td>27</td>\n",
       "      <td>11</td>\n",
       "      <td>2021</td>\n",
       "    </tr>\n",
       "    <tr>\n",
       "      <th>1427</th>\n",
       "      <td>2021-11-28</td>\n",
       "      <td>1811.0</td>\n",
       "      <td>6</td>\n",
       "      <td>28</td>\n",
       "      <td>11</td>\n",
       "      <td>2021</td>\n",
       "    </tr>\n",
       "    <tr>\n",
       "      <th>1428</th>\n",
       "      <td>2021-11-29</td>\n",
       "      <td>1596.0</td>\n",
       "      <td>0</td>\n",
       "      <td>29</td>\n",
       "      <td>11</td>\n",
       "      <td>2021</td>\n",
       "    </tr>\n",
       "    <tr>\n",
       "      <th>1429</th>\n",
       "      <td>2021-11-30</td>\n",
       "      <td>1964.0</td>\n",
       "      <td>1</td>\n",
       "      <td>30</td>\n",
       "      <td>11</td>\n",
       "      <td>2021</td>\n",
       "    </tr>\n",
       "    <tr>\n",
       "      <th>1430</th>\n",
       "      <td>2021-12-01</td>\n",
       "      <td>2002.0</td>\n",
       "      <td>2</td>\n",
       "      <td>1</td>\n",
       "      <td>12</td>\n",
       "      <td>2021</td>\n",
       "    </tr>\n",
       "  </tbody>\n",
       "</table>\n",
       "</div>"
      ],
      "text/plain": [
       "           date   sales  weekday  monthday  month  year\n",
       "1426 2021-11-27  1814.0        5        27     11  2021\n",
       "1427 2021-11-28  1811.0        6        28     11  2021\n",
       "1428 2021-11-29  1596.0        0        29     11  2021\n",
       "1429 2021-11-30  1964.0        1        30     11  2021\n",
       "1430 2021-12-01  2002.0        2         1     12  2021"
      ]
     },
     "execution_count": 30,
     "metadata": {},
     "output_type": "execute_result"
    }
   ],
   "source": [
    "salesByDate_test.head(5)"
   ]
  },
  {
   "cell_type": "markdown",
   "metadata": {},
   "source": [
    "# Benchmark Models"
   ]
  },
  {
   "cell_type": "markdown",
   "metadata": {},
   "source": [
    "*After setting up the dataset, a first EDA (=exploratory data analysis) and the train-test split we start to build our first models, so-called **baseline models**. These are simple models, which gives us a lower threshold for our modeling accuracy.*"
   ]
  },
  {
   "cell_type": "markdown",
   "metadata": {},
   "source": [
    "## Overall Mean Value"
   ]
  },
  {
   "cell_type": "markdown",
   "metadata": {},
   "source": [
    "The simplest benchmark model is to predict **the mean/median for future days**."
   ]
  },
  {
   "cell_type": "code",
   "execution_count": 32,
   "metadata": {
    "ExecuteTime": {
     "end_time": "2021-11-27T09:53:42.048190Z",
     "start_time": "2021-11-27T09:53:42.041187Z"
    }
   },
   "outputs": [],
   "source": [
    "mean_val = np.round(salesByDate_train['sales'].mean(),5)"
   ]
  },
  {
   "cell_type": "code",
   "execution_count": 33,
   "metadata": {
    "ExecuteTime": {
     "end_time": "2021-11-27T09:53:59.138416Z",
     "start_time": "2021-11-27T09:53:59.127420Z"
    }
   },
   "outputs": [
    {
     "name": "stderr",
     "output_type": "stream",
     "text": [
      "C:\\Users\\A062471\\AppData\\Local\\Continuum\\anaconda3\\lib\\site-packages\\ipykernel_launcher.py:2: SettingWithCopyWarning: \n",
      "A value is trying to be set on a copy of a slice from a DataFrame.\n",
      "Try using .loc[row_indexer,col_indexer] = value instead\n",
      "\n",
      "See the caveats in the documentation: https://pandas.pydata.org/pandas-docs/stable/user_guide/indexing.html#returning-a-view-versus-a-copy\n",
      "  \n",
      "C:\\Users\\A062471\\AppData\\Local\\Continuum\\anaconda3\\lib\\site-packages\\ipykernel_launcher.py:3: SettingWithCopyWarning: \n",
      "A value is trying to be set on a copy of a slice from a DataFrame.\n",
      "Try using .loc[row_indexer,col_indexer] = value instead\n",
      "\n",
      "See the caveats in the documentation: https://pandas.pydata.org/pandas-docs/stable/user_guide/indexing.html#returning-a-view-versus-a-copy\n",
      "  This is separate from the ipykernel package so we can avoid doing imports until\n"
     ]
    }
   ],
   "source": [
    "salesByDate_train['benchmark_mean'] = mean_val\n",
    "salesByDate_val['benchmark_mean']   = mean_val\n",
    "salesByDate_test['benchmark_mean']  = mean_val"
   ]
  },
  {
   "cell_type": "code",
   "execution_count": 34,
   "metadata": {
    "ExecuteTime": {
     "end_time": "2021-11-27T09:54:01.906472Z",
     "start_time": "2021-11-27T09:54:01.882469Z"
    }
   },
   "outputs": [
    {
     "data": {
      "text/html": [
       "<div>\n",
       "<style scoped>\n",
       "    .dataframe tbody tr th:only-of-type {\n",
       "        vertical-align: middle;\n",
       "    }\n",
       "\n",
       "    .dataframe tbody tr th {\n",
       "        vertical-align: top;\n",
       "    }\n",
       "\n",
       "    .dataframe thead th {\n",
       "        text-align: right;\n",
       "    }\n",
       "</style>\n",
       "<table border=\"1\" class=\"dataframe\">\n",
       "  <thead>\n",
       "    <tr style=\"text-align: right;\">\n",
       "      <th></th>\n",
       "      <th>date</th>\n",
       "      <th>sales</th>\n",
       "      <th>weekday</th>\n",
       "      <th>monthday</th>\n",
       "      <th>month</th>\n",
       "      <th>year</th>\n",
       "      <th>benchmark_mean</th>\n",
       "    </tr>\n",
       "  </thead>\n",
       "  <tbody>\n",
       "    <tr>\n",
       "      <th>0</th>\n",
       "      <td>2018-01-01</td>\n",
       "      <td>852.0</td>\n",
       "      <td>0</td>\n",
       "      <td>1</td>\n",
       "      <td>1</td>\n",
       "      <td>2018</td>\n",
       "      <td>1357.15385</td>\n",
       "    </tr>\n",
       "    <tr>\n",
       "      <th>1</th>\n",
       "      <td>2018-01-02</td>\n",
       "      <td>1191.0</td>\n",
       "      <td>1</td>\n",
       "      <td>2</td>\n",
       "      <td>1</td>\n",
       "      <td>2018</td>\n",
       "      <td>1357.15385</td>\n",
       "    </tr>\n",
       "    <tr>\n",
       "      <th>2</th>\n",
       "      <td>2018-01-03</td>\n",
       "      <td>1610.0</td>\n",
       "      <td>2</td>\n",
       "      <td>3</td>\n",
       "      <td>1</td>\n",
       "      <td>2018</td>\n",
       "      <td>1357.15385</td>\n",
       "    </tr>\n",
       "    <tr>\n",
       "      <th>3</th>\n",
       "      <td>2018-01-04</td>\n",
       "      <td>999.0</td>\n",
       "      <td>3</td>\n",
       "      <td>4</td>\n",
       "      <td>1</td>\n",
       "      <td>2018</td>\n",
       "      <td>1357.15385</td>\n",
       "    </tr>\n",
       "    <tr>\n",
       "      <th>4</th>\n",
       "      <td>2018-01-05</td>\n",
       "      <td>801.0</td>\n",
       "      <td>4</td>\n",
       "      <td>5</td>\n",
       "      <td>1</td>\n",
       "      <td>2018</td>\n",
       "      <td>1357.15385</td>\n",
       "    </tr>\n",
       "  </tbody>\n",
       "</table>\n",
       "</div>"
      ],
      "text/plain": [
       "        date   sales  weekday  monthday  month  year  benchmark_mean\n",
       "0 2018-01-01   852.0        0         1      1  2018      1357.15385\n",
       "1 2018-01-02  1191.0        1         2      1  2018      1357.15385\n",
       "2 2018-01-03  1610.0        2         3      1  2018      1357.15385\n",
       "3 2018-01-04   999.0        3         4      1  2018      1357.15385\n",
       "4 2018-01-05   801.0        4         5      1  2018      1357.15385"
      ]
     },
     "execution_count": 34,
     "metadata": {},
     "output_type": "execute_result"
    }
   ],
   "source": [
    "salesByDate_train.head(5)"
   ]
  },
  {
   "cell_type": "markdown",
   "metadata": {},
   "source": [
    "Now we collect some metrics to evaluate the model."
   ]
  },
  {
   "cell_type": "code",
   "execution_count": 20,
   "metadata": {
    "ExecuteTime": {
     "end_time": "2021-11-27T09:47:59.146037Z",
     "start_time": "2021-11-27T09:47:59.135080Z"
    }
   },
   "outputs": [],
   "source": [
    "def eval_metrics(y_true, y_pred, dat_type):\n",
    "    ''' \n",
    "    Collect the evaluation metrics for the sales forecast\n",
    "\n",
    "    Input:\n",
    "    ======\n",
    "    y_true: float\n",
    "\n",
    "    y_hat: float\n",
    "\n",
    "    dat_type: string\n",
    "              'train', 'val', 'test\n",
    "\n",
    "    Output:\n",
    "    ========\n",
    "\n",
    "    >>> eval_metrics(salesByDate_train['benchmark_mean'], salesByDate_train['sales'], 'train')\n",
    "    '''\n",
    "    train_error        = np.sqrt(mean_squared_error(y_true, y_pred))\n",
    "    train_log_error    = mean_squared_log_error(y_true, y_pred)\n",
    "    train_medabs_error = median_absolute_error(y_true, y_pred)\n",
    "    train_perc_err     = (np.abs((y_true-y_pred)/y_true)>0.2).astype(float).sum()/len(y_true)\n",
    "\n",
    "    print('==============================================')\n",
    "    print('Results:')\n",
    "    print('Average ', dat_type, ' RMSE:           %.3f' %train_error)\n",
    "    print('Average ', dat_type, ' LMSE:           %.3f' %train_log_error)\n",
    "    print('Average ', dat_type, ' MEDAE:          %.3f' %train_medabs_error)\n",
    "    print('Abs % 20% off ', dat_type, ':          {} %'.format(round(train_perc_err*100,2)))\n",
    "    print('# data points {}'.format(len(y_true)))\n",
    "    print('==============================================')"
   ]
  },
  {
   "cell_type": "code",
   "execution_count": 35,
   "metadata": {
    "ExecuteTime": {
     "end_time": "2021-11-27T09:54:06.629497Z",
     "start_time": "2021-11-27T09:54:06.585508Z"
    }
   },
   "outputs": [
    {
     "name": "stdout",
     "output_type": "stream",
     "text": [
      "==============================================\n",
      "Results:\n",
      "Average  train  RMSE:           312.907\n",
      "Average  train  LMSE:           0.060\n",
      "Average  train  MEDAE:          234.154\n",
      "Abs % 20% off  train :          43.17 %\n",
      "# data points 1339\n",
      "==============================================\n",
      "==============================================\n",
      "Results:\n",
      "Average  val  RMSE:           356.922\n",
      "Average  val  LMSE:           0.049\n",
      "Average  val  MEDAE:          172.154\n",
      "Abs % 20% off  val :          42.53 %\n",
      "# data points 87\n",
      "==============================================\n",
      "==============================================\n",
      "Results:\n",
      "Average  test  RMSE:           458.584\n",
      "Average  test  LMSE:           0.077\n",
      "Average  test  MEDAE:          332.846\n",
      "Abs % 20% off  test :          59.5 %\n",
      "# data points 400\n",
      "==============================================\n"
     ]
    }
   ],
   "source": [
    "from sklearn.metrics import mean_squared_error\n",
    "from sklearn.metrics import median_absolute_error\n",
    "from sklearn.metrics import mean_squared_log_error\n",
    "\n",
    "eval_metrics(salesByDate_train['benchmark_mean'], salesByDate_train['sales'], 'train')\n",
    "eval_metrics(salesByDate_val['benchmark_mean'], salesByDate_val['sales'], 'val')\n",
    "eval_metrics(salesByDate_test['benchmark_mean'], salesByDate_test['sales'], 'test')"
   ]
  },
  {
   "cell_type": "markdown",
   "metadata": {},
   "source": [
    "## Mean by month"
   ]
  },
  {
   "cell_type": "code",
   "execution_count": 36,
   "metadata": {
    "ExecuteTime": {
     "end_time": "2021-11-27T09:54:10.521506Z",
     "start_time": "2021-11-27T09:54:10.485545Z"
    }
   },
   "outputs": [],
   "source": [
    "calc = np.ceil(salesByDate_train.groupby('month')['sales'].mean()).to_frame('benchmark_mean_month').reset_index()\n",
    "\n",
    "salesByDate_train = pd.merge(calc, salesByDate_train, on = 'month')\n",
    "salesByDate_val   = pd.merge(calc, salesByDate_val, on = 'month')\n",
    "salesByDate_test  = pd.merge(calc, salesByDate_test, on = 'month')"
   ]
  },
  {
   "cell_type": "code",
   "execution_count": 42,
   "metadata": {
    "ExecuteTime": {
     "end_time": "2021-11-27T09:54:54.568802Z",
     "start_time": "2021-11-27T09:54:54.553796Z"
    }
   },
   "outputs": [
    {
     "data": {
      "text/html": [
       "<div>\n",
       "<style scoped>\n",
       "    .dataframe tbody tr th:only-of-type {\n",
       "        vertical-align: middle;\n",
       "    }\n",
       "\n",
       "    .dataframe tbody tr th {\n",
       "        vertical-align: top;\n",
       "    }\n",
       "\n",
       "    .dataframe thead th {\n",
       "        text-align: right;\n",
       "    }\n",
       "</style>\n",
       "<table border=\"1\" class=\"dataframe\">\n",
       "  <thead>\n",
       "    <tr style=\"text-align: right;\">\n",
       "      <th></th>\n",
       "      <th>month</th>\n",
       "      <th>benchmark_mean_month</th>\n",
       "      <th>date</th>\n",
       "      <th>sales</th>\n",
       "      <th>weekday</th>\n",
       "      <th>monthday</th>\n",
       "      <th>year</th>\n",
       "      <th>benchmark_mean</th>\n",
       "    </tr>\n",
       "  </thead>\n",
       "  <tbody>\n",
       "    <tr>\n",
       "      <th>0</th>\n",
       "      <td>9</td>\n",
       "      <td>1338.0</td>\n",
       "      <td>2021-09-01</td>\n",
       "      <td>1814.0</td>\n",
       "      <td>2</td>\n",
       "      <td>1</td>\n",
       "      <td>2021</td>\n",
       "      <td>1357.15385</td>\n",
       "    </tr>\n",
       "    <tr>\n",
       "      <th>1</th>\n",
       "      <td>9</td>\n",
       "      <td>1338.0</td>\n",
       "      <td>2021-09-02</td>\n",
       "      <td>1839.0</td>\n",
       "      <td>3</td>\n",
       "      <td>2</td>\n",
       "      <td>2021</td>\n",
       "      <td>1357.15385</td>\n",
       "    </tr>\n",
       "    <tr>\n",
       "      <th>2</th>\n",
       "      <td>9</td>\n",
       "      <td>1338.0</td>\n",
       "      <td>2021-09-03</td>\n",
       "      <td>1425.0</td>\n",
       "      <td>4</td>\n",
       "      <td>3</td>\n",
       "      <td>2021</td>\n",
       "      <td>1357.15385</td>\n",
       "    </tr>\n",
       "    <tr>\n",
       "      <th>3</th>\n",
       "      <td>9</td>\n",
       "      <td>1338.0</td>\n",
       "      <td>2021-09-04</td>\n",
       "      <td>1568.0</td>\n",
       "      <td>5</td>\n",
       "      <td>4</td>\n",
       "      <td>2021</td>\n",
       "      <td>1357.15385</td>\n",
       "    </tr>\n",
       "    <tr>\n",
       "      <th>4</th>\n",
       "      <td>9</td>\n",
       "      <td>1338.0</td>\n",
       "      <td>2021-09-05</td>\n",
       "      <td>1265.0</td>\n",
       "      <td>6</td>\n",
       "      <td>5</td>\n",
       "      <td>2021</td>\n",
       "      <td>1357.15385</td>\n",
       "    </tr>\n",
       "  </tbody>\n",
       "</table>\n",
       "</div>"
      ],
      "text/plain": [
       "   month  benchmark_mean_month       date   sales  weekday  monthday  year  \\\n",
       "0      9                1338.0 2021-09-01  1814.0        2         1  2021   \n",
       "1      9                1338.0 2021-09-02  1839.0        3         2  2021   \n",
       "2      9                1338.0 2021-09-03  1425.0        4         3  2021   \n",
       "3      9                1338.0 2021-09-04  1568.0        5         4  2021   \n",
       "4      9                1338.0 2021-09-05  1265.0        6         5  2021   \n",
       "\n",
       "   benchmark_mean  \n",
       "0      1357.15385  \n",
       "1      1357.15385  \n",
       "2      1357.15385  \n",
       "3      1357.15385  \n",
       "4      1357.15385  "
      ]
     },
     "execution_count": 42,
     "metadata": {},
     "output_type": "execute_result"
    }
   ],
   "source": [
    "salesByDate_val.head(5)"
   ]
  },
  {
   "cell_type": "code",
   "execution_count": 43,
   "metadata": {
    "ExecuteTime": {
     "end_time": "2021-11-27T09:54:56.619804Z",
     "start_time": "2021-11-27T09:54:56.586832Z"
    }
   },
   "outputs": [
    {
     "name": "stdout",
     "output_type": "stream",
     "text": [
      "==============================================\n",
      "Results:\n",
      "Average  train  RMSE:           309.604\n",
      "Average  train  LMSE:           0.059\n",
      "Average  train  MEDAE:          237.000\n",
      "Abs % 20% off  train :          43.24 %\n",
      "# data points 1339\n",
      "==============================================\n",
      "==============================================\n",
      "Results:\n",
      "Average  val  RMSE:           382.363\n",
      "Average  val  LMSE:           0.058\n",
      "Average  val  MEDAE:          228.000\n",
      "Abs % 20% off  val :          47.13 %\n",
      "# data points 87\n",
      "==============================================\n",
      "==============================================\n",
      "Results:\n",
      "Average  test  RMSE:           468.481\n",
      "Average  test  LMSE:           0.082\n",
      "Average  test  MEDAE:          369.000\n",
      "Abs % 20% off  test :          61.75 %\n",
      "# data points 400\n",
      "==============================================\n"
     ]
    }
   ],
   "source": [
    "eval_metrics(salesByDate_train['benchmark_mean_month'], salesByDate_train['sales'], 'train')\n",
    "eval_metrics(salesByDate_val['benchmark_mean_month'], salesByDate_val['sales'], 'val')\n",
    "eval_metrics(salesByDate_test['benchmark_mean_month'], salesByDate_test['sales'], 'test')"
   ]
  },
  {
   "cell_type": "markdown",
   "metadata": {},
   "source": [
    "*Now the mean value by week, weekday...could be used as well.*"
   ]
  },
  {
   "cell_type": "markdown",
   "metadata": {
    "ExecuteTime": {
     "end_time": "2020-08-09T05:39:16.868175Z",
     "start_time": "2020-08-09T05:39:16.855221Z"
    }
   },
   "source": [
    "## Rolling Mean of Last Week"
   ]
  },
  {
   "cell_type": "markdown",
   "metadata": {
    "ExecuteTime": {
     "end_time": "2021-11-27T10:30:30.588092Z",
     "start_time": "2021-11-27T10:30:30.580092Z"
    }
   },
   "source": [
    "*A more advanced model is to use the rolling mean of the last week. But be careful: Here we use the information starting from the 8th day before the observation.*"
   ]
  },
  {
   "cell_type": "code",
   "execution_count": 52,
   "metadata": {
    "ExecuteTime": {
     "end_time": "2021-11-27T10:35:11.520400Z",
     "start_time": "2021-11-27T10:35:11.505400Z"
    }
   },
   "outputs": [],
   "source": [
    "salesByDate_train[\"benchmark_MA_roll_7\"] = salesByDate_train['sales'].rolling(window=7).mean()\n",
    "salesByDate_val[\"benchmark_MA_roll_7\"] = salesByDate_val['sales'].rolling(window=7).mean()\n",
    "salesByDate_test[\"benchmark_MA_roll_7\"] = salesByDate_test['sales'].rolling(window=7).mean()"
   ]
  },
  {
   "cell_type": "code",
   "execution_count": 47,
   "metadata": {
    "ExecuteTime": {
     "end_time": "2021-11-27T10:31:10.462110Z",
     "start_time": "2021-11-27T10:31:10.434107Z"
    }
   },
   "outputs": [
    {
     "data": {
      "text/html": [
       "<div>\n",
       "<style scoped>\n",
       "    .dataframe tbody tr th:only-of-type {\n",
       "        vertical-align: middle;\n",
       "    }\n",
       "\n",
       "    .dataframe tbody tr th {\n",
       "        vertical-align: top;\n",
       "    }\n",
       "\n",
       "    .dataframe thead th {\n",
       "        text-align: right;\n",
       "    }\n",
       "</style>\n",
       "<table border=\"1\" class=\"dataframe\">\n",
       "  <thead>\n",
       "    <tr style=\"text-align: right;\">\n",
       "      <th></th>\n",
       "      <th>month</th>\n",
       "      <th>benchmark_mean_month</th>\n",
       "      <th>date</th>\n",
       "      <th>sales</th>\n",
       "      <th>weekday</th>\n",
       "      <th>monthday</th>\n",
       "      <th>year</th>\n",
       "      <th>benchmark_mean</th>\n",
       "      <th>benchmark_MA_roll_7</th>\n",
       "    </tr>\n",
       "  </thead>\n",
       "  <tbody>\n",
       "    <tr>\n",
       "      <th>0</th>\n",
       "      <td>1</td>\n",
       "      <td>1356.0</td>\n",
       "      <td>2018-01-01</td>\n",
       "      <td>852.0</td>\n",
       "      <td>0</td>\n",
       "      <td>1</td>\n",
       "      <td>2018</td>\n",
       "      <td>1357.15385</td>\n",
       "      <td>NaN</td>\n",
       "    </tr>\n",
       "    <tr>\n",
       "      <th>1</th>\n",
       "      <td>1</td>\n",
       "      <td>1356.0</td>\n",
       "      <td>2018-01-02</td>\n",
       "      <td>1191.0</td>\n",
       "      <td>1</td>\n",
       "      <td>2</td>\n",
       "      <td>2018</td>\n",
       "      <td>1357.15385</td>\n",
       "      <td>NaN</td>\n",
       "    </tr>\n",
       "    <tr>\n",
       "      <th>2</th>\n",
       "      <td>1</td>\n",
       "      <td>1356.0</td>\n",
       "      <td>2018-01-03</td>\n",
       "      <td>1610.0</td>\n",
       "      <td>2</td>\n",
       "      <td>3</td>\n",
       "      <td>2018</td>\n",
       "      <td>1357.15385</td>\n",
       "      <td>NaN</td>\n",
       "    </tr>\n",
       "    <tr>\n",
       "      <th>3</th>\n",
       "      <td>1</td>\n",
       "      <td>1356.0</td>\n",
       "      <td>2018-01-04</td>\n",
       "      <td>999.0</td>\n",
       "      <td>3</td>\n",
       "      <td>4</td>\n",
       "      <td>2018</td>\n",
       "      <td>1357.15385</td>\n",
       "      <td>NaN</td>\n",
       "    </tr>\n",
       "    <tr>\n",
       "      <th>4</th>\n",
       "      <td>1</td>\n",
       "      <td>1356.0</td>\n",
       "      <td>2018-01-05</td>\n",
       "      <td>801.0</td>\n",
       "      <td>4</td>\n",
       "      <td>5</td>\n",
       "      <td>2018</td>\n",
       "      <td>1357.15385</td>\n",
       "      <td>NaN</td>\n",
       "    </tr>\n",
       "    <tr>\n",
       "      <th>5</th>\n",
       "      <td>1</td>\n",
       "      <td>1356.0</td>\n",
       "      <td>2018-01-06</td>\n",
       "      <td>720.0</td>\n",
       "      <td>5</td>\n",
       "      <td>6</td>\n",
       "      <td>2018</td>\n",
       "      <td>1357.15385</td>\n",
       "      <td>NaN</td>\n",
       "    </tr>\n",
       "    <tr>\n",
       "      <th>6</th>\n",
       "      <td>1</td>\n",
       "      <td>1356.0</td>\n",
       "      <td>2018-01-07</td>\n",
       "      <td>1293.0</td>\n",
       "      <td>6</td>\n",
       "      <td>7</td>\n",
       "      <td>2018</td>\n",
       "      <td>1357.15385</td>\n",
       "      <td>1066.571429</td>\n",
       "    </tr>\n",
       "    <tr>\n",
       "      <th>7</th>\n",
       "      <td>1</td>\n",
       "      <td>1356.0</td>\n",
       "      <td>2018-01-08</td>\n",
       "      <td>770.0</td>\n",
       "      <td>0</td>\n",
       "      <td>8</td>\n",
       "      <td>2018</td>\n",
       "      <td>1357.15385</td>\n",
       "      <td>1054.857143</td>\n",
       "    </tr>\n",
       "    <tr>\n",
       "      <th>8</th>\n",
       "      <td>1</td>\n",
       "      <td>1356.0</td>\n",
       "      <td>2018-01-09</td>\n",
       "      <td>1370.0</td>\n",
       "      <td>1</td>\n",
       "      <td>9</td>\n",
       "      <td>2018</td>\n",
       "      <td>1357.15385</td>\n",
       "      <td>1080.428571</td>\n",
       "    </tr>\n",
       "    <tr>\n",
       "      <th>9</th>\n",
       "      <td>1</td>\n",
       "      <td>1356.0</td>\n",
       "      <td>2018-01-10</td>\n",
       "      <td>871.0</td>\n",
       "      <td>2</td>\n",
       "      <td>10</td>\n",
       "      <td>2018</td>\n",
       "      <td>1357.15385</td>\n",
       "      <td>974.857143</td>\n",
       "    </tr>\n",
       "  </tbody>\n",
       "</table>\n",
       "</div>"
      ],
      "text/plain": [
       "   month  benchmark_mean_month       date   sales  weekday  monthday  year  \\\n",
       "0      1                1356.0 2018-01-01   852.0        0         1  2018   \n",
       "1      1                1356.0 2018-01-02  1191.0        1         2  2018   \n",
       "2      1                1356.0 2018-01-03  1610.0        2         3  2018   \n",
       "3      1                1356.0 2018-01-04   999.0        3         4  2018   \n",
       "4      1                1356.0 2018-01-05   801.0        4         5  2018   \n",
       "5      1                1356.0 2018-01-06   720.0        5         6  2018   \n",
       "6      1                1356.0 2018-01-07  1293.0        6         7  2018   \n",
       "7      1                1356.0 2018-01-08   770.0        0         8  2018   \n",
       "8      1                1356.0 2018-01-09  1370.0        1         9  2018   \n",
       "9      1                1356.0 2018-01-10   871.0        2        10  2018   \n",
       "\n",
       "   benchmark_mean  benchmark_MA_roll_7  \n",
       "0      1357.15385                  NaN  \n",
       "1      1357.15385                  NaN  \n",
       "2      1357.15385                  NaN  \n",
       "3      1357.15385                  NaN  \n",
       "4      1357.15385                  NaN  \n",
       "5      1357.15385                  NaN  \n",
       "6      1357.15385          1066.571429  \n",
       "7      1357.15385          1054.857143  \n",
       "8      1357.15385          1080.428571  \n",
       "9      1357.15385           974.857143  "
      ]
     },
     "execution_count": 47,
     "metadata": {},
     "output_type": "execute_result"
    }
   ],
   "source": [
    "salesByDate_train.head(10)"
   ]
  },
  {
   "cell_type": "code",
   "execution_count": 50,
   "metadata": {
    "ExecuteTime": {
     "end_time": "2021-11-27T10:33:39.445283Z",
     "start_time": "2021-11-27T10:33:39.020283Z"
    },
    "run_control": {
     "marked": false
    }
   },
   "outputs": [
    {
     "data": {
      "image/png": "[encoded data removed]",
      "text/plain": [
       "<Figure size 1080x432 with 1 Axes>"
      ]
     },
     "metadata": {
      "needs_background": "light"
     },
     "output_type": "display_data"
    }
   ],
   "source": [
    "mask = (salesByDate_train.date >= '2021-01-01')\n",
    "title =  'Number of daily sales'\n",
    "fig, axs = plt.subplots(1,1,figsize=(15,6))\n",
    "sns.lineplot(data = salesByDate_train[mask], x = 'date', y = 'sales', marker='o', linestyle='', ci = None, label = 'true values')#ci = None)\n",
    "sns.lineplot(data = salesByDate_train[mask], x = 'date', y = 'benchmark_MA_roll_7', marker='o', linestyle='--', ci = None, label = 'rolling mean 7')#ci = None)\n",
    "\n",
    "plt.title(title)\n",
    "plt.xlabel('sales date')\n",
    "plt.xticks(rotation=45)\n",
    "plt.ylabel('number of sales')\n",
    "plt.grid(True)\n",
    "plt.legend()\n",
    "plt.show()"
   ]
  },
  {
   "cell_type": "code",
   "execution_count": 61,
   "metadata": {
    "ExecuteTime": {
     "end_time": "2021-11-27T10:41:43.882141Z",
     "start_time": "2021-11-27T10:41:43.878139Z"
    }
   },
   "outputs": [],
   "source": [
    "# [item for item in salesByDate_train['benchmark_MA_roll_7'] if not(pd.isnull(item)) == True]"
   ]
  },
  {
   "cell_type": "code",
   "execution_count": 63,
   "metadata": {
    "ExecuteTime": {
     "end_time": "2021-11-27T10:43:59.834283Z",
     "start_time": "2021-11-27T10:43:59.806289Z"
    },
    "run_control": {
     "marked": false
    }
   },
   "outputs": [
    {
     "name": "stdout",
     "output_type": "stream",
     "text": [
      "==============================================\n",
      "Results:\n",
      "Average  train  RMSE:           259.778\n",
      "Average  train  LMSE:           0.041\n",
      "Average  train  MEDAE:          199.286\n",
      "Abs % 20% off  train :          35.48 %\n",
      "# data points 1333\n",
      "==============================================\n",
      "==============================================\n",
      "Results:\n",
      "Average  val  RMSE:           258.229\n",
      "Average  val  LMSE:           0.027\n",
      "Average  val  MEDAE:          216.857\n",
      "Abs % 20% off  val :          25.93 %\n",
      "# data points 81\n",
      "==============================================\n",
      "==============================================\n",
      "Results:\n",
      "Average  test  RMSE:           254.418\n",
      "Average  test  LMSE:           0.023\n",
      "Average  test  MEDAE:          210.857\n",
      "Abs % 20% off  test :          18.27 %\n",
      "# data points 394\n",
      "==============================================\n"
     ]
    }
   ],
   "source": [
    "train = salesByDate_train[~salesByDate_train.benchmark_MA_roll_7.isna()]\n",
    "val   = salesByDate_val[~salesByDate_val.benchmark_MA_roll_7.isna()]\n",
    "test  = salesByDate_test[~salesByDate_test.benchmark_MA_roll_7.isna()]\n",
    "\n",
    "eval_metrics(train['benchmark_MA_roll_7'], train['sales'], 'train')\n",
    "eval_metrics(val['benchmark_MA_roll_7'], val['sales'], 'val')\n",
    "eval_metrics(test['benchmark_MA_roll_7'], test['sales'], 'test')"
   ]
  },
  {
   "cell_type": "markdown",
   "metadata": {},
   "source": [
    "## Linear Regression"
   ]
  },
  {
   "cell_type": "markdown",
   "metadata": {},
   "source": [
    "*As a last benachmark model we consider a simple linear regression.*"
   ]
  },
  {
   "cell_type": "code",
   "execution_count": 77,
   "metadata": {
    "ExecuteTime": {
     "end_time": "2021-11-27T12:42:09.619012Z",
     "start_time": "2021-11-27T12:42:09.577014Z"
    }
   },
   "outputs": [
    {
     "data": {
      "text/html": [
       "<div>\n",
       "<style scoped>\n",
       "    .dataframe tbody tr th:only-of-type {\n",
       "        vertical-align: middle;\n",
       "    }\n",
       "\n",
       "    .dataframe tbody tr th {\n",
       "        vertical-align: top;\n",
       "    }\n",
       "\n",
       "    .dataframe thead th {\n",
       "        text-align: right;\n",
       "    }\n",
       "</style>\n",
       "<table border=\"1\" class=\"dataframe\">\n",
       "  <thead>\n",
       "    <tr style=\"text-align: right;\">\n",
       "      <th></th>\n",
       "      <th>month_1</th>\n",
       "      <th>month_10</th>\n",
       "      <th>month_11</th>\n",
       "      <th>month_12</th>\n",
       "      <th>month_2</th>\n",
       "      <th>month_3</th>\n",
       "      <th>month_4</th>\n",
       "      <th>month_5</th>\n",
       "      <th>month_6</th>\n",
       "      <th>month_7</th>\n",
       "      <th>month_8</th>\n",
       "      <th>month_9</th>\n",
       "      <th>weekday_0</th>\n",
       "      <th>weekday_1</th>\n",
       "      <th>weekday_2</th>\n",
       "      <th>weekday_3</th>\n",
       "      <th>weekday_4</th>\n",
       "      <th>weekday_5</th>\n",
       "      <th>weekday_6</th>\n",
       "      <th>monthday_1</th>\n",
       "      <th>monthday_10</th>\n",
       "      <th>monthday_11</th>\n",
       "      <th>monthday_12</th>\n",
       "      <th>monthday_13</th>\n",
       "      <th>monthday_14</th>\n",
       "      <th>monthday_15</th>\n",
       "      <th>monthday_16</th>\n",
       "      <th>monthday_17</th>\n",
       "      <th>monthday_18</th>\n",
       "      <th>monthday_19</th>\n",
       "      <th>monthday_2</th>\n",
       "      <th>monthday_20</th>\n",
       "      <th>monthday_21</th>\n",
       "      <th>monthday_22</th>\n",
       "      <th>monthday_23</th>\n",
       "      <th>monthday_24</th>\n",
       "      <th>monthday_25</th>\n",
       "      <th>monthday_26</th>\n",
       "      <th>monthday_27</th>\n",
       "      <th>monthday_28</th>\n",
       "      <th>monthday_29</th>\n",
       "      <th>monthday_3</th>\n",
       "      <th>monthday_30</th>\n",
       "      <th>monthday_31</th>\n",
       "      <th>monthday_4</th>\n",
       "      <th>monthday_5</th>\n",
       "      <th>monthday_6</th>\n",
       "      <th>monthday_7</th>\n",
       "      <th>monthday_8</th>\n",
       "      <th>monthday_9</th>\n",
       "      <th>year_2018</th>\n",
       "      <th>year_2019</th>\n",
       "      <th>year_2020</th>\n",
       "      <th>year_2021</th>\n",
       "    </tr>\n",
       "  </thead>\n",
       "  <tbody>\n",
       "    <tr>\n",
       "      <th>0</th>\n",
       "      <td>1</td>\n",
       "      <td>0</td>\n",
       "      <td>0</td>\n",
       "      <td>0</td>\n",
       "      <td>0</td>\n",
       "      <td>0</td>\n",
       "      <td>0</td>\n",
       "      <td>0</td>\n",
       "      <td>0</td>\n",
       "      <td>0</td>\n",
       "      <td>0</td>\n",
       "      <td>0</td>\n",
       "      <td>1</td>\n",
       "      <td>0</td>\n",
       "      <td>0</td>\n",
       "      <td>0</td>\n",
       "      <td>0</td>\n",
       "      <td>0</td>\n",
       "      <td>0</td>\n",
       "      <td>1</td>\n",
       "      <td>0</td>\n",
       "      <td>0</td>\n",
       "      <td>0</td>\n",
       "      <td>0</td>\n",
       "      <td>0</td>\n",
       "      <td>0</td>\n",
       "      <td>0</td>\n",
       "      <td>0</td>\n",
       "      <td>0</td>\n",
       "      <td>0</td>\n",
       "      <td>0</td>\n",
       "      <td>0</td>\n",
       "      <td>0</td>\n",
       "      <td>0</td>\n",
       "      <td>0</td>\n",
       "      <td>0</td>\n",
       "      <td>0</td>\n",
       "      <td>0</td>\n",
       "      <td>0</td>\n",
       "      <td>0</td>\n",
       "      <td>0</td>\n",
       "      <td>0</td>\n",
       "      <td>0</td>\n",
       "      <td>0</td>\n",
       "      <td>0</td>\n",
       "      <td>0</td>\n",
       "      <td>0</td>\n",
       "      <td>0</td>\n",
       "      <td>0</td>\n",
       "      <td>0</td>\n",
       "      <td>1</td>\n",
       "      <td>0</td>\n",
       "      <td>0</td>\n",
       "      <td>0</td>\n",
       "    </tr>\n",
       "    <tr>\n",
       "      <th>1</th>\n",
       "      <td>1</td>\n",
       "      <td>0</td>\n",
       "      <td>0</td>\n",
       "      <td>0</td>\n",
       "      <td>0</td>\n",
       "      <td>0</td>\n",
       "      <td>0</td>\n",
       "      <td>0</td>\n",
       "      <td>0</td>\n",
       "      <td>0</td>\n",
       "      <td>0</td>\n",
       "      <td>0</td>\n",
       "      <td>0</td>\n",
       "      <td>1</td>\n",
       "      <td>0</td>\n",
       "      <td>0</td>\n",
       "      <td>0</td>\n",
       "      <td>0</td>\n",
       "      <td>0</td>\n",
       "      <td>0</td>\n",
       "      <td>0</td>\n",
       "      <td>0</td>\n",
       "      <td>0</td>\n",
       "      <td>0</td>\n",
       "      <td>0</td>\n",
       "      <td>0</td>\n",
       "      <td>0</td>\n",
       "      <td>0</td>\n",
       "      <td>0</td>\n",
       "      <td>0</td>\n",
       "      <td>1</td>\n",
       "      <td>0</td>\n",
       "      <td>0</td>\n",
       "      <td>0</td>\n",
       "      <td>0</td>\n",
       "      <td>0</td>\n",
       "      <td>0</td>\n",
       "      <td>0</td>\n",
       "      <td>0</td>\n",
       "      <td>0</td>\n",
       "      <td>0</td>\n",
       "      <td>0</td>\n",
       "      <td>0</td>\n",
       "      <td>0</td>\n",
       "      <td>0</td>\n",
       "      <td>0</td>\n",
       "      <td>0</td>\n",
       "      <td>0</td>\n",
       "      <td>0</td>\n",
       "      <td>0</td>\n",
       "      <td>1</td>\n",
       "      <td>0</td>\n",
       "      <td>0</td>\n",
       "      <td>0</td>\n",
       "    </tr>\n",
       "    <tr>\n",
       "      <th>2</th>\n",
       "      <td>1</td>\n",
       "      <td>0</td>\n",
       "      <td>0</td>\n",
       "      <td>0</td>\n",
       "      <td>0</td>\n",
       "      <td>0</td>\n",
       "      <td>0</td>\n",
       "      <td>0</td>\n",
       "      <td>0</td>\n",
       "      <td>0</td>\n",
       "      <td>0</td>\n",
       "      <td>0</td>\n",
       "      <td>0</td>\n",
       "      <td>0</td>\n",
       "      <td>1</td>\n",
       "      <td>0</td>\n",
       "      <td>0</td>\n",
       "      <td>0</td>\n",
       "      <td>0</td>\n",
       "      <td>0</td>\n",
       "      <td>0</td>\n",
       "      <td>0</td>\n",
       "      <td>0</td>\n",
       "      <td>0</td>\n",
       "      <td>0</td>\n",
       "      <td>0</td>\n",
       "      <td>0</td>\n",
       "      <td>0</td>\n",
       "      <td>0</td>\n",
       "      <td>0</td>\n",
       "      <td>0</td>\n",
       "      <td>0</td>\n",
       "      <td>0</td>\n",
       "      <td>0</td>\n",
       "      <td>0</td>\n",
       "      <td>0</td>\n",
       "      <td>0</td>\n",
       "      <td>0</td>\n",
       "      <td>0</td>\n",
       "      <td>0</td>\n",
       "      <td>0</td>\n",
       "      <td>1</td>\n",
       "      <td>0</td>\n",
       "      <td>0</td>\n",
       "      <td>0</td>\n",
       "      <td>0</td>\n",
       "      <td>0</td>\n",
       "      <td>0</td>\n",
       "      <td>0</td>\n",
       "      <td>0</td>\n",
       "      <td>1</td>\n",
       "      <td>0</td>\n",
       "      <td>0</td>\n",
       "      <td>0</td>\n",
       "    </tr>\n",
       "    <tr>\n",
       "      <th>3</th>\n",
       "      <td>1</td>\n",
       "      <td>0</td>\n",
       "      <td>0</td>\n",
       "      <td>0</td>\n",
       "      <td>0</td>\n",
       "      <td>0</td>\n",
       "      <td>0</td>\n",
       "      <td>0</td>\n",
       "      <td>0</td>\n",
       "      <td>0</td>\n",
       "      <td>0</td>\n",
       "      <td>0</td>\n",
       "      <td>0</td>\n",
       "      <td>0</td>\n",
       "      <td>0</td>\n",
       "      <td>1</td>\n",
       "      <td>0</td>\n",
       "      <td>0</td>\n",
       "      <td>0</td>\n",
       "      <td>0</td>\n",
       "      <td>0</td>\n",
       "      <td>0</td>\n",
       "      <td>0</td>\n",
       "      <td>0</td>\n",
       "      <td>0</td>\n",
       "      <td>0</td>\n",
       "      <td>0</td>\n",
       "      <td>0</td>\n",
       "      <td>0</td>\n",
       "      <td>0</td>\n",
       "      <td>0</td>\n",
       "      <td>0</td>\n",
       "      <td>0</td>\n",
       "      <td>0</td>\n",
       "      <td>0</td>\n",
       "      <td>0</td>\n",
       "      <td>0</td>\n",
       "      <td>0</td>\n",
       "      <td>0</td>\n",
       "      <td>0</td>\n",
       "      <td>0</td>\n",
       "      <td>0</td>\n",
       "      <td>0</td>\n",
       "      <td>0</td>\n",
       "      <td>1</td>\n",
       "      <td>0</td>\n",
       "      <td>0</td>\n",
       "      <td>0</td>\n",
       "      <td>0</td>\n",
       "      <td>0</td>\n",
       "      <td>1</td>\n",
       "      <td>0</td>\n",
       "      <td>0</td>\n",
       "      <td>0</td>\n",
       "    </tr>\n",
       "    <tr>\n",
       "      <th>4</th>\n",
       "      <td>1</td>\n",
       "      <td>0</td>\n",
       "      <td>0</td>\n",
       "      <td>0</td>\n",
       "      <td>0</td>\n",
       "      <td>0</td>\n",
       "      <td>0</td>\n",
       "      <td>0</td>\n",
       "      <td>0</td>\n",
       "      <td>0</td>\n",
       "      <td>0</td>\n",
       "      <td>0</td>\n",
       "      <td>0</td>\n",
       "      <td>0</td>\n",
       "      <td>0</td>\n",
       "      <td>0</td>\n",
       "      <td>1</td>\n",
       "      <td>0</td>\n",
       "      <td>0</td>\n",
       "      <td>0</td>\n",
       "      <td>0</td>\n",
       "      <td>0</td>\n",
       "      <td>0</td>\n",
       "      <td>0</td>\n",
       "      <td>0</td>\n",
       "      <td>0</td>\n",
       "      <td>0</td>\n",
       "      <td>0</td>\n",
       "      <td>0</td>\n",
       "      <td>0</td>\n",
       "      <td>0</td>\n",
       "      <td>0</td>\n",
       "      <td>0</td>\n",
       "      <td>0</td>\n",
       "      <td>0</td>\n",
       "      <td>0</td>\n",
       "      <td>0</td>\n",
       "      <td>0</td>\n",
       "      <td>0</td>\n",
       "      <td>0</td>\n",
       "      <td>0</td>\n",
       "      <td>0</td>\n",
       "      <td>0</td>\n",
       "      <td>0</td>\n",
       "      <td>0</td>\n",
       "      <td>1</td>\n",
       "      <td>0</td>\n",
       "      <td>0</td>\n",
       "      <td>0</td>\n",
       "      <td>0</td>\n",
       "      <td>1</td>\n",
       "      <td>0</td>\n",
       "      <td>0</td>\n",
       "      <td>0</td>\n",
       "    </tr>\n",
       "  </tbody>\n",
       "</table>\n",
       "</div>"
      ],
      "text/plain": [
       "   month_1  month_10  month_11  month_12  month_2  month_3  month_4  month_5  \\\n",
       "0        1         0         0         0        0        0        0        0   \n",
       "1        1         0         0         0        0        0        0        0   \n",
       "2        1         0         0         0        0        0        0        0   \n",
       "3        1         0         0         0        0        0        0        0   \n",
       "4        1         0         0         0        0        0        0        0   \n",
       "\n",
       "   month_6  month_7  month_8  month_9  weekday_0  weekday_1  weekday_2  \\\n",
       "0        0        0        0        0          1          0          0   \n",
       "1        0        0        0        0          0          1          0   \n",
       "2        0        0        0        0          0          0          1   \n",
       "3        0        0        0        0          0          0          0   \n",
       "4        0        0        0        0          0          0          0   \n",
       "\n",
       "   weekday_3  weekday_4  weekday_5  weekday_6  monthday_1  monthday_10  \\\n",
       "0          0          0          0          0           1            0   \n",
       "1          0          0          0          0           0            0   \n",
       "2          0          0          0          0           0            0   \n",
       "3          1          0          0          0           0            0   \n",
       "4          0          1          0          0           0            0   \n",
       "\n",
       "   monthday_11  monthday_12  monthday_13  monthday_14  monthday_15  \\\n",
       "0            0            0            0            0            0   \n",
       "1            0            0            0            0            0   \n",
       "2            0            0            0            0            0   \n",
       "3            0            0            0            0            0   \n",
       "4            0            0            0            0            0   \n",
       "\n",
       "   monthday_16  monthday_17  monthday_18  monthday_19  monthday_2  \\\n",
       "0            0            0            0            0           0   \n",
       "1            0            0            0            0           1   \n",
       "2            0            0            0            0           0   \n",
       "3            0            0            0            0           0   \n",
       "4            0            0            0            0           0   \n",
       "\n",
       "   monthday_20  monthday_21  monthday_22  monthday_23  monthday_24  \\\n",
       "0            0            0            0            0            0   \n",
       "1            0            0            0            0            0   \n",
       "2            0            0            0            0            0   \n",
       "3            0            0            0            0            0   \n",
       "4            0            0            0            0            0   \n",
       "\n",
       "   monthday_25  monthday_26  monthday_27  monthday_28  monthday_29  \\\n",
       "0            0            0            0            0            0   \n",
       "1            0            0            0            0            0   \n",
       "2            0            0            0            0            0   \n",
       "3            0            0            0            0            0   \n",
       "4            0            0            0            0            0   \n",
       "\n",
       "   monthday_3  monthday_30  monthday_31  monthday_4  monthday_5  monthday_6  \\\n",
       "0           0            0            0           0           0           0   \n",
       "1           0            0            0           0           0           0   \n",
       "2           1            0            0           0           0           0   \n",
       "3           0            0            0           1           0           0   \n",
       "4           0            0            0           0           1           0   \n",
       "\n",
       "   monthday_7  monthday_8  monthday_9  year_2018  year_2019  year_2020  \\\n",
       "0           0           0           0          1          0          0   \n",
       "1           0           0           0          1          0          0   \n",
       "2           0           0           0          1          0          0   \n",
       "3           0           0           0          1          0          0   \n",
       "4           0           0           0          1          0          0   \n",
       "\n",
       "   year_2021  \n",
       "0          0  \n",
       "1          0  \n",
       "2          0  \n",
       "3          0  \n",
       "4          0  "
      ]
     },
     "execution_count": 77,
     "metadata": {},
     "output_type": "execute_result"
    }
   ],
   "source": [
    "pd.get_dummies(salesByDate_train[['month', 'weekday', 'monthday', 'year']].astype(str)).head(5)"
   ]
  },
  {
   "cell_type": "code",
   "execution_count": 74,
   "metadata": {
    "ExecuteTime": {
     "end_time": "2021-11-27T12:40:21.308354Z",
     "start_time": "2021-11-27T12:40:21.301346Z"
    }
   },
   "outputs": [],
   "source": [
    "X_train = salesByDate_train[['month', 'weekday', 'monthday', 'year']]\n",
    "X_val   = salesByDate_val[['month', 'weekday', 'monthday', 'year']]\n",
    "X_test  = salesByDate_test[['month', 'weekday', 'monthday', 'year']]\n",
    "\n",
    "y_train = np.array(salesByDate_train.sales)\n",
    "y_val   = np.array(salesByDate_val.sales)\n",
    "y_test  = np.array(salesByDate_test.sales)"
   ]
  },
  {
   "cell_type": "code",
   "execution_count": 75,
   "metadata": {
    "ExecuteTime": {
     "end_time": "2021-11-27T12:40:44.878740Z",
     "start_time": "2021-11-27T12:40:42.902191Z"
    }
   },
   "outputs": [
    {
     "name": "stdout",
     "output_type": "stream",
     "text": [
      "INTERCEPT:  -290132.2148277865\n",
      "COEFFS:  [  1.41022 -26.62819  -0.2158  144.38403]\n",
      "\n",
      "R2 score:  0.2694041313660873\n",
      "RMSE    :  267.45712327072255\n",
      "\n"
     ]
    }
   ],
   "source": [
    "from sklearn.linear_model import Ridge\n",
    "\n",
    "ridge_reg = Ridge(alpha = 1, random_state = 42)\n",
    "ridge_reg.fit(X_train,y_train)\n",
    "print('INTERCEPT: ', ridge_reg.intercept_)\n",
    "print('COEFFS: ', ridge_reg.coef_.round(5))\n",
    "print()\n",
    "print('R2 score: ', ridge_reg.score(X_train, y_train))\n",
    "print('RMSE    : ', np.sqrt(mean_squared_error(ridge_reg.predict(X_train), y_train)))\n",
    "print()"
   ]
  },
  {
   "cell_type": "code",
   "execution_count": 78,
   "metadata": {
    "ExecuteTime": {
     "end_time": "2021-11-27T12:42:58.479941Z",
     "start_time": "2021-11-27T12:42:58.404941Z"
    }
   },
   "outputs": [
    {
     "name": "stdout",
     "output_type": "stream",
     "text": [
      "INTERCEPT:  1377.1658113115316\n",
      "COEFFS:  [ -22.63413  -20.30492   31.68384  -44.54506  -23.51642  -31.45663\n",
      "   24.05841  -14.25436   51.38075   35.04096  -19.35527   33.90285\n",
      "   75.19061   28.57498   52.57626    8.9057    -3.92806  -79.28782\n",
      "  -82.03167   31.66876   17.57313   13.52987 -104.50261  -33.41302\n",
      "   56.55335  -27.93124   12.54779    4.41758   -1.67013   18.31961\n",
      "   -3.65221  -34.14636   17.68668   35.44654  -72.45221    1.68424\n",
      "   42.48543    3.96406  -31.96858   11.97557  -49.83812   -0.84909\n",
      "   65.03843  -16.16273   -8.20346  -27.92483   30.49809   14.97557\n",
      "   -4.17569   38.52557 -221.475    -56.22195   57.41158  220.28537]\n",
      "\n",
      "R2 score:  0.2981244601323352\n",
      "RMSE    :  262.14743754187117\n",
      "\n"
     ]
    }
   ],
   "source": [
    "X_train = pd.get_dummies(salesByDate_train[['month', 'weekday', 'monthday', 'year']].astype(str))\n",
    "X_val   = pd.get_dummies(salesByDate_val[['month', 'weekday', 'monthday', 'year']].astype(str))\n",
    "X_test  = pd.get_dummies(salesByDate_test[['month', 'weekday', 'monthday', 'year']].astype(str))\n",
    "\n",
    "y_train = np.array(salesByDate_train.sales)\n",
    "y_val   = np.array(salesByDate_val.sales)\n",
    "y_test  = np.array(salesByDate_test.sales)\n",
    "\n",
    "from sklearn.linear_model import Ridge\n",
    "\n",
    "ridge_reg = Ridge(alpha = 1, random_state = 42)\n",
    "ridge_reg.fit(X_train,y_train)\n",
    "print('INTERCEPT: ', ridge_reg.intercept_)\n",
    "print('COEFFS: ', ridge_reg.coef_.round(5))\n",
    "print()\n",
    "print('R2 score: ', ridge_reg.score(X_train, y_train))\n",
    "print('RMSE    : ', np.sqrt(mean_squared_error(ridge_reg.predict(X_train), y_train)))\n",
    "print()"
   ]
  },
  {
   "cell_type": "code",
   "execution_count": 80,
   "metadata": {
    "ExecuteTime": {
     "end_time": "2021-11-27T12:45:09.251420Z",
     "start_time": "2021-11-27T12:45:09.247424Z"
    }
   },
   "outputs": [],
   "source": [
    "y_train = ridge_reg.predict(X_train)"
   ]
  },
  {
   "cell_type": "code",
   "execution_count": 81,
   "metadata": {
    "ExecuteTime": {
     "end_time": "2021-11-27T12:45:28.815652Z",
     "start_time": "2021-11-27T12:45:28.802653Z"
    }
   },
   "outputs": [
    {
     "name": "stdout",
     "output_type": "stream",
     "text": [
      "==============================================\n",
      "Results:\n",
      "Average  train  RMSE:           262.147\n",
      "Average  train  LMSE:           0.042\n",
      "Average  train  MEDAE:          225.488\n",
      "Abs % 20% off  train :          38.69 %\n",
      "# data points 1339\n",
      "==============================================\n"
     ]
    }
   ],
   "source": [
    "eval_metrics(y_train, salesByDate_train['sales'], 'train')"
   ]
  },
  {
   "cell_type": "markdown",
   "metadata": {},
   "source": [
    "## Comparing the benchmark models"
   ]
  },
  {
   "cell_type": "code",
   "execution_count": 64,
   "metadata": {
    "ExecuteTime": {
     "end_time": "2021-11-27T12:32:39.278908Z",
     "start_time": "2021-11-27T12:32:39.269925Z"
    }
   },
   "outputs": [],
   "source": [
    "def rms_error(true, pred):\n",
    "    diff=(true-pred).dropna()\n",
    "    return np.sqrt((diff**2).mean())"
   ]
  },
  {
   "cell_type": "code",
   "execution_count": 68,
   "metadata": {
    "ExecuteTime": {
     "end_time": "2021-11-27T12:33:40.847480Z",
     "start_time": "2021-11-27T12:33:40.835483Z"
    }
   },
   "outputs": [
    {
     "name": "stdout",
     "output_type": "stream",
     "text": [
      "BENCHMARK benchmark_mean : 312.9072048159962\n",
      "BENCHMARK benchmark_mean_month : 309.6040172512833\n",
      "BENCHMARK benchmark_MA_roll_7 : 259.77826851825273\n"
     ]
    }
   ],
   "source": [
    "for col in ['benchmark_mean', 'benchmark_mean_month', 'benchmark_MA_roll_7']:\n",
    "    print('BENCHMARK {} : {}'.format(col, rms_error(salesByDate_train['sales'], salesByDate_train[col])))"
   ]
  },
  {
   "cell_type": "markdown",
   "metadata": {},
   "source": [
    "Here we observe that the rolling mean benchmark model gives the best result, i.e. the error on the daily number of sales is around 260 licenses. The Ridge regression (without using autocorrelative features) has around the same error. \n",
    "\n",
    "Now the challenge is to find a more sophisticated model which outperforms the benchmark models. "
   ]
  },
  {
   "cell_type": "markdown",
   "metadata": {},
   "source": [
    "# Predictive Models"
   ]
  },
  {
   "cell_type": "markdown",
   "metadata": {},
   "source": [
    "Here we can start with modeling the time-series data in order to outperform the benchmarks."
   ]
  }
 ],
 "metadata": {
  "hide_input": false,
  "kernelspec": {
   "display_name": "Python 3",
   "language": "python",
   "name": "python3"
  },
  "language_info": {
   "codemirror_mode": {
    "name": "ipython",
    "version": 3
   },
   "file_extension": ".py",
   "mimetype": "text/x-python",
   "name": "python",
   "nbconvert_exporter": "python",
   "pygments_lexer": "ipython3",
   "version": "3.7.1"
  },
  "latex_envs": {
   "LaTeX_envs_menu_present": true,
   "autoclose": false,
   "autocomplete": true,
   "bibliofile": "biblio.bib",
   "cite_by": "apalike",
   "current_citInitial": 1,
   "eqLabelWithNumbers": true,
   "eqNumInitial": 1,
   "hotkeys": {
    "equation": "Ctrl-E",
    "itemize": "Ctrl-I"
   },
   "labels_anchors": false,
   "latex_user_defs": false,
   "report_style_numbering": false,
   "user_envs_cfg": false
  },
  "toc": {
   "base_numbering": 1,
   "nav_menu": {},
   "number_sections": true,
   "sideBar": true,
   "skip_h1_title": false,
   "title_cell": "Table of Contents",
   "title_sidebar": "Contents",
   "toc_cell": false,
   "toc_position": {
    "height": "calc(100% - 180px)",
    "left": "10px",
    "top": "150px",
    "width": "228.719px"
   },
   "toc_section_display": true,
   "toc_window_display": true
  }
 },
 "nbformat": 4,
 "nbformat_minor": 4
}
